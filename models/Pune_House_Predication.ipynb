{
 "cells": [
  {
   "cell_type": "code",
   "execution_count": 1,
   "id": "b2b8306a",
   "metadata": {},
   "outputs": [],
   "source": [
    "import numpy as np\n",
    "import pandas as pd\n",
    "\n",
    "# visualization\n",
    "import matplotlib.pyplot as plt\n",
    "import seaborn as sns\n",
    "\n",
    "from sklearn.linear_model import LinearRegression\n",
    "from sklearn.model_selection import train_test_split\n",
    "from statsmodels.stats.outliers_influence import variance_inflation_factor\n",
    "from sklearn.metrics import mean_absolute_error, mean_squared_error, r2_score\n",
    "\n",
    "# To avoid warnings\n",
    "import warnings\n",
    "warnings.filterwarnings('ignore')"
   ]
  },
  {
   "cell_type": "markdown",
   "id": "24ca4a81",
   "metadata": {},
   "source": [
    "## 1. Problem Statement"
   ]
  },
  {
   "cell_type": "markdown",
   "id": "323a59c5",
   "metadata": {},
   "source": [
    "#### Predication of House Prices in Pune city According to area and other features"
   ]
  },
  {
   "cell_type": "markdown",
   "id": "6cee44d8",
   "metadata": {},
   "source": [
    "## 2. Data Gathering"
   ]
  },
  {
   "cell_type": "code",
   "execution_count": 2,
   "id": "69164140",
   "metadata": {},
   "outputs": [
    {
     "data": {
      "text/html": [
       "<div>\n",
       "<style scoped>\n",
       "    .dataframe tbody tr th:only-of-type {\n",
       "        vertical-align: middle;\n",
       "    }\n",
       "\n",
       "    .dataframe tbody tr th {\n",
       "        vertical-align: top;\n",
       "    }\n",
       "\n",
       "    .dataframe thead th {\n",
       "        text-align: right;\n",
       "    }\n",
       "</style>\n",
       "<table border=\"1\" class=\"dataframe\">\n",
       "  <thead>\n",
       "    <tr style=\"text-align: right;\">\n",
       "      <th></th>\n",
       "      <th>area_type</th>\n",
       "      <th>availability</th>\n",
       "      <th>size</th>\n",
       "      <th>society</th>\n",
       "      <th>total_sqft</th>\n",
       "      <th>bath</th>\n",
       "      <th>balcony</th>\n",
       "      <th>price</th>\n",
       "      <th>site_location</th>\n",
       "    </tr>\n",
       "  </thead>\n",
       "  <tbody>\n",
       "    <tr>\n",
       "      <th>0</th>\n",
       "      <td>Super built-up  Area</td>\n",
       "      <td>19-Dec</td>\n",
       "      <td>2 BHK</td>\n",
       "      <td>Coomee</td>\n",
       "      <td>1056</td>\n",
       "      <td>2.0</td>\n",
       "      <td>1.0</td>\n",
       "      <td>39.07</td>\n",
       "      <td>Alandi Road</td>\n",
       "    </tr>\n",
       "    <tr>\n",
       "      <th>1</th>\n",
       "      <td>Plot  Area</td>\n",
       "      <td>Ready To Move</td>\n",
       "      <td>4 Bedroom</td>\n",
       "      <td>Theanmp</td>\n",
       "      <td>2600</td>\n",
       "      <td>5.0</td>\n",
       "      <td>3.0</td>\n",
       "      <td>120.00</td>\n",
       "      <td>Ambegaon Budruk</td>\n",
       "    </tr>\n",
       "    <tr>\n",
       "      <th>2</th>\n",
       "      <td>Built-up  Area</td>\n",
       "      <td>Ready To Move</td>\n",
       "      <td>3 BHK</td>\n",
       "      <td>NaN</td>\n",
       "      <td>1440</td>\n",
       "      <td>2.0</td>\n",
       "      <td>3.0</td>\n",
       "      <td>62.00</td>\n",
       "      <td>Anandnagar</td>\n",
       "    </tr>\n",
       "    <tr>\n",
       "      <th>3</th>\n",
       "      <td>Super built-up  Area</td>\n",
       "      <td>Ready To Move</td>\n",
       "      <td>3 BHK</td>\n",
       "      <td>Soiewre</td>\n",
       "      <td>1521</td>\n",
       "      <td>3.0</td>\n",
       "      <td>1.0</td>\n",
       "      <td>95.00</td>\n",
       "      <td>Aundh</td>\n",
       "    </tr>\n",
       "    <tr>\n",
       "      <th>4</th>\n",
       "      <td>Super built-up  Area</td>\n",
       "      <td>Ready To Move</td>\n",
       "      <td>2 BHK</td>\n",
       "      <td>NaN</td>\n",
       "      <td>1200</td>\n",
       "      <td>2.0</td>\n",
       "      <td>1.0</td>\n",
       "      <td>51.00</td>\n",
       "      <td>Aundh Road</td>\n",
       "    </tr>\n",
       "    <tr>\n",
       "      <th>...</th>\n",
       "      <td>...</td>\n",
       "      <td>...</td>\n",
       "      <td>...</td>\n",
       "      <td>...</td>\n",
       "      <td>...</td>\n",
       "      <td>...</td>\n",
       "      <td>...</td>\n",
       "      <td>...</td>\n",
       "      <td>...</td>\n",
       "    </tr>\n",
       "    <tr>\n",
       "      <th>13315</th>\n",
       "      <td>Built-up  Area</td>\n",
       "      <td>Ready To Move</td>\n",
       "      <td>5 Bedroom</td>\n",
       "      <td>ArsiaEx</td>\n",
       "      <td>3453</td>\n",
       "      <td>4.0</td>\n",
       "      <td>0.0</td>\n",
       "      <td>231.00</td>\n",
       "      <td>Pashan</td>\n",
       "    </tr>\n",
       "    <tr>\n",
       "      <th>13316</th>\n",
       "      <td>Super built-up  Area</td>\n",
       "      <td>Ready To Move</td>\n",
       "      <td>4 BHK</td>\n",
       "      <td>NaN</td>\n",
       "      <td>3600</td>\n",
       "      <td>5.0</td>\n",
       "      <td>NaN</td>\n",
       "      <td>400.00</td>\n",
       "      <td>Paud Road</td>\n",
       "    </tr>\n",
       "    <tr>\n",
       "      <th>13317</th>\n",
       "      <td>Built-up  Area</td>\n",
       "      <td>Ready To Move</td>\n",
       "      <td>2 BHK</td>\n",
       "      <td>Mahla T</td>\n",
       "      <td>1141</td>\n",
       "      <td>2.0</td>\n",
       "      <td>1.0</td>\n",
       "      <td>60.00</td>\n",
       "      <td>Pirangut</td>\n",
       "    </tr>\n",
       "    <tr>\n",
       "      <th>13318</th>\n",
       "      <td>Super built-up  Area</td>\n",
       "      <td>18-Jun</td>\n",
       "      <td>4 BHK</td>\n",
       "      <td>SollyCl</td>\n",
       "      <td>4689</td>\n",
       "      <td>4.0</td>\n",
       "      <td>1.0</td>\n",
       "      <td>488.00</td>\n",
       "      <td>Prabhat Road</td>\n",
       "    </tr>\n",
       "    <tr>\n",
       "      <th>13319</th>\n",
       "      <td>Super built-up  Area</td>\n",
       "      <td>Ready To Move</td>\n",
       "      <td>1 BHK</td>\n",
       "      <td>NaN</td>\n",
       "      <td>550</td>\n",
       "      <td>1.0</td>\n",
       "      <td>1.0</td>\n",
       "      <td>17.00</td>\n",
       "      <td>Pune Railway Station</td>\n",
       "    </tr>\n",
       "  </tbody>\n",
       "</table>\n",
       "<p>13320 rows × 9 columns</p>\n",
       "</div>"
      ],
      "text/plain": [
       "                  area_type   availability       size  society total_sqft  \\\n",
       "0      Super built-up  Area         19-Dec      2 BHK  Coomee        1056   \n",
       "1                Plot  Area  Ready To Move  4 Bedroom  Theanmp       2600   \n",
       "2            Built-up  Area  Ready To Move      3 BHK      NaN       1440   \n",
       "3      Super built-up  Area  Ready To Move      3 BHK  Soiewre       1521   \n",
       "4      Super built-up  Area  Ready To Move      2 BHK      NaN       1200   \n",
       "...                     ...            ...        ...      ...        ...   \n",
       "13315        Built-up  Area  Ready To Move  5 Bedroom  ArsiaEx       3453   \n",
       "13316  Super built-up  Area  Ready To Move      4 BHK      NaN       3600   \n",
       "13317        Built-up  Area  Ready To Move      2 BHK  Mahla T       1141   \n",
       "13318  Super built-up  Area         18-Jun      4 BHK  SollyCl       4689   \n",
       "13319  Super built-up  Area  Ready To Move      1 BHK      NaN        550   \n",
       "\n",
       "       bath  balcony   price         site_location  \n",
       "0       2.0      1.0   39.07           Alandi Road  \n",
       "1       5.0      3.0  120.00       Ambegaon Budruk  \n",
       "2       2.0      3.0   62.00            Anandnagar  \n",
       "3       3.0      1.0   95.00                 Aundh  \n",
       "4       2.0      1.0   51.00            Aundh Road  \n",
       "...     ...      ...     ...                   ...  \n",
       "13315   4.0      0.0  231.00                Pashan  \n",
       "13316   5.0      NaN  400.00             Paud Road  \n",
       "13317   2.0      1.0   60.00              Pirangut  \n",
       "13318   4.0      1.0  488.00          Prabhat Road  \n",
       "13319   1.0      1.0   17.00  Pune Railway Station  \n",
       "\n",
       "[13320 rows x 9 columns]"
      ]
     },
     "execution_count": 2,
     "metadata": {},
     "output_type": "execute_result"
    }
   ],
   "source": [
    "df = pd.read_csv(\"Pune_House_Data.csv\")\n",
    "df"
   ]
  },
  {
   "cell_type": "code",
   "execution_count": 3,
   "id": "d67e20ce",
   "metadata": {},
   "outputs": [
    {
     "data": {
      "text/html": [
       "<div>\n",
       "<style scoped>\n",
       "    .dataframe tbody tr th:only-of-type {\n",
       "        vertical-align: middle;\n",
       "    }\n",
       "\n",
       "    .dataframe tbody tr th {\n",
       "        vertical-align: top;\n",
       "    }\n",
       "\n",
       "    .dataframe thead th {\n",
       "        text-align: right;\n",
       "    }\n",
       "</style>\n",
       "<table border=\"1\" class=\"dataframe\">\n",
       "  <thead>\n",
       "    <tr style=\"text-align: right;\">\n",
       "      <th></th>\n",
       "      <th>0</th>\n",
       "      <th>1</th>\n",
       "      <th>2</th>\n",
       "      <th>3</th>\n",
       "      <th>4</th>\n",
       "    </tr>\n",
       "  </thead>\n",
       "  <tbody>\n",
       "    <tr>\n",
       "      <th>area_type</th>\n",
       "      <td>Super built-up  Area</td>\n",
       "      <td>Plot  Area</td>\n",
       "      <td>Built-up  Area</td>\n",
       "      <td>Super built-up  Area</td>\n",
       "      <td>Super built-up  Area</td>\n",
       "    </tr>\n",
       "    <tr>\n",
       "      <th>availability</th>\n",
       "      <td>19-Dec</td>\n",
       "      <td>Ready To Move</td>\n",
       "      <td>Ready To Move</td>\n",
       "      <td>Ready To Move</td>\n",
       "      <td>Ready To Move</td>\n",
       "    </tr>\n",
       "    <tr>\n",
       "      <th>size</th>\n",
       "      <td>2 BHK</td>\n",
       "      <td>4 Bedroom</td>\n",
       "      <td>3 BHK</td>\n",
       "      <td>3 BHK</td>\n",
       "      <td>2 BHK</td>\n",
       "    </tr>\n",
       "    <tr>\n",
       "      <th>society</th>\n",
       "      <td>Coomee</td>\n",
       "      <td>Theanmp</td>\n",
       "      <td>NaN</td>\n",
       "      <td>Soiewre</td>\n",
       "      <td>NaN</td>\n",
       "    </tr>\n",
       "    <tr>\n",
       "      <th>total_sqft</th>\n",
       "      <td>1056</td>\n",
       "      <td>2600</td>\n",
       "      <td>1440</td>\n",
       "      <td>1521</td>\n",
       "      <td>1200</td>\n",
       "    </tr>\n",
       "    <tr>\n",
       "      <th>bath</th>\n",
       "      <td>2.0</td>\n",
       "      <td>5.0</td>\n",
       "      <td>2.0</td>\n",
       "      <td>3.0</td>\n",
       "      <td>2.0</td>\n",
       "    </tr>\n",
       "    <tr>\n",
       "      <th>balcony</th>\n",
       "      <td>1.0</td>\n",
       "      <td>3.0</td>\n",
       "      <td>3.0</td>\n",
       "      <td>1.0</td>\n",
       "      <td>1.0</td>\n",
       "    </tr>\n",
       "    <tr>\n",
       "      <th>price</th>\n",
       "      <td>39.07</td>\n",
       "      <td>120.0</td>\n",
       "      <td>62.0</td>\n",
       "      <td>95.0</td>\n",
       "      <td>51.0</td>\n",
       "    </tr>\n",
       "    <tr>\n",
       "      <th>site_location</th>\n",
       "      <td>Alandi Road</td>\n",
       "      <td>Ambegaon Budruk</td>\n",
       "      <td>Anandnagar</td>\n",
       "      <td>Aundh</td>\n",
       "      <td>Aundh Road</td>\n",
       "    </tr>\n",
       "  </tbody>\n",
       "</table>\n",
       "</div>"
      ],
      "text/plain": [
       "                                  0                1               2  \\\n",
       "area_type      Super built-up  Area       Plot  Area  Built-up  Area   \n",
       "availability                 19-Dec    Ready To Move   Ready To Move   \n",
       "size                          2 BHK        4 Bedroom           3 BHK   \n",
       "society                     Coomee           Theanmp             NaN   \n",
       "total_sqft                     1056             2600            1440   \n",
       "bath                            2.0              5.0             2.0   \n",
       "balcony                         1.0              3.0             3.0   \n",
       "price                         39.07            120.0            62.0   \n",
       "site_location           Alandi Road  Ambegaon Budruk      Anandnagar   \n",
       "\n",
       "                                  3                     4  \n",
       "area_type      Super built-up  Area  Super built-up  Area  \n",
       "availability          Ready To Move         Ready To Move  \n",
       "size                          3 BHK                 2 BHK  \n",
       "society                     Soiewre                   NaN  \n",
       "total_sqft                     1521                  1200  \n",
       "bath                            3.0                   2.0  \n",
       "balcony                         1.0                   1.0  \n",
       "price                          95.0                  51.0  \n",
       "site_location                 Aundh            Aundh Road  "
      ]
     },
     "execution_count": 3,
     "metadata": {},
     "output_type": "execute_result"
    }
   ],
   "source": [
    "df.head().T # Transpose of data"
   ]
  },
  {
   "cell_type": "markdown",
   "id": "d55be35b",
   "metadata": {},
   "source": [
    "##  3.EDA"
   ]
  },
  {
   "cell_type": "code",
   "execution_count": 5,
   "id": "a886ebe3",
   "metadata": {},
   "outputs": [
    {
     "name": "stdout",
     "output_type": "stream",
     "text": [
      "<class 'pandas.core.frame.DataFrame'>\n",
      "RangeIndex: 13320 entries, 0 to 13319\n",
      "Data columns (total 9 columns):\n",
      " #   Column         Non-Null Count  Dtype  \n",
      "---  ------         --------------  -----  \n",
      " 0   area_type      13320 non-null  object \n",
      " 1   availability   13320 non-null  object \n",
      " 2   size           13304 non-null  object \n",
      " 3   society        7818 non-null   object \n",
      " 4   total_sqft     13320 non-null  object \n",
      " 5   bath           13247 non-null  float64\n",
      " 6   balcony        12711 non-null  float64\n",
      " 7   price          13320 non-null  float64\n",
      " 8   site_location  13319 non-null  object \n",
      "dtypes: float64(3), object(6)\n",
      "memory usage: 936.7+ KB\n"
     ]
    }
   ],
   "source": [
    "df.info()"
   ]
  },
  {
   "cell_type": "raw",
   "id": "8ca4dbe9",
   "metadata": {},
   "source": [
    "Plot  Area : total open sapace\n",
    "Super built-up  Area : space available after space deduction as per government norms\n",
    "Built-up  Area : area in which construction has been made\n",
    "Carpet  Area : usable area"
   ]
  },
  {
   "cell_type": "markdown",
   "id": "d2d35c53",
   "metadata": {},
   "source": [
    "### 1. area_type"
   ]
  },
  {
   "cell_type": "code",
   "execution_count": 6,
   "id": "39792769",
   "metadata": {},
   "outputs": [
    {
     "data": {
      "text/plain": [
       "array(['Super built-up  Area', 'Plot  Area', 'Built-up  Area',\n",
       "       'Carpet  Area'], dtype=object)"
      ]
     },
     "execution_count": 6,
     "metadata": {},
     "output_type": "execute_result"
    }
   ],
   "source": [
    "df[\"area_type\"].unique()"
   ]
  },
  {
   "cell_type": "code",
   "execution_count": 7,
   "id": "fdbcdc75",
   "metadata": {},
   "outputs": [
    {
     "data": {
      "text/plain": [
       "0"
      ]
     },
     "execution_count": 7,
     "metadata": {},
     "output_type": "execute_result"
    }
   ],
   "source": [
    "df[\"area_type\"].isna().sum()"
   ]
  },
  {
   "cell_type": "markdown",
   "id": "669957fb",
   "metadata": {},
   "source": [
    "#### onehot encoding"
   ]
  },
  {
   "cell_type": "code",
   "execution_count": 9,
   "id": "bfca5899",
   "metadata": {},
   "outputs": [
    {
     "data": {
      "text/html": [
       "<div>\n",
       "<style scoped>\n",
       "    .dataframe tbody tr th:only-of-type {\n",
       "        vertical-align: middle;\n",
       "    }\n",
       "\n",
       "    .dataframe tbody tr th {\n",
       "        vertical-align: top;\n",
       "    }\n",
       "\n",
       "    .dataframe thead th {\n",
       "        text-align: right;\n",
       "    }\n",
       "</style>\n",
       "<table border=\"1\" class=\"dataframe\">\n",
       "  <thead>\n",
       "    <tr style=\"text-align: right;\">\n",
       "      <th></th>\n",
       "      <th>availability</th>\n",
       "      <th>size</th>\n",
       "      <th>society</th>\n",
       "      <th>total_sqft</th>\n",
       "      <th>bath</th>\n",
       "      <th>balcony</th>\n",
       "      <th>price</th>\n",
       "      <th>site_location</th>\n",
       "      <th>area_type_Built-up  Area</th>\n",
       "      <th>area_type_Carpet  Area</th>\n",
       "      <th>area_type_Plot  Area</th>\n",
       "      <th>area_type_Super built-up  Area</th>\n",
       "    </tr>\n",
       "  </thead>\n",
       "  <tbody>\n",
       "    <tr>\n",
       "      <th>0</th>\n",
       "      <td>19-Dec</td>\n",
       "      <td>2 BHK</td>\n",
       "      <td>Coomee</td>\n",
       "      <td>1056</td>\n",
       "      <td>2.0</td>\n",
       "      <td>1.0</td>\n",
       "      <td>39.07</td>\n",
       "      <td>Alandi Road</td>\n",
       "      <td>0</td>\n",
       "      <td>0</td>\n",
       "      <td>0</td>\n",
       "      <td>1</td>\n",
       "    </tr>\n",
       "    <tr>\n",
       "      <th>1</th>\n",
       "      <td>Ready To Move</td>\n",
       "      <td>4 Bedroom</td>\n",
       "      <td>Theanmp</td>\n",
       "      <td>2600</td>\n",
       "      <td>5.0</td>\n",
       "      <td>3.0</td>\n",
       "      <td>120.00</td>\n",
       "      <td>Ambegaon Budruk</td>\n",
       "      <td>0</td>\n",
       "      <td>0</td>\n",
       "      <td>1</td>\n",
       "      <td>0</td>\n",
       "    </tr>\n",
       "    <tr>\n",
       "      <th>2</th>\n",
       "      <td>Ready To Move</td>\n",
       "      <td>3 BHK</td>\n",
       "      <td>NaN</td>\n",
       "      <td>1440</td>\n",
       "      <td>2.0</td>\n",
       "      <td>3.0</td>\n",
       "      <td>62.00</td>\n",
       "      <td>Anandnagar</td>\n",
       "      <td>1</td>\n",
       "      <td>0</td>\n",
       "      <td>0</td>\n",
       "      <td>0</td>\n",
       "    </tr>\n",
       "    <tr>\n",
       "      <th>3</th>\n",
       "      <td>Ready To Move</td>\n",
       "      <td>3 BHK</td>\n",
       "      <td>Soiewre</td>\n",
       "      <td>1521</td>\n",
       "      <td>3.0</td>\n",
       "      <td>1.0</td>\n",
       "      <td>95.00</td>\n",
       "      <td>Aundh</td>\n",
       "      <td>0</td>\n",
       "      <td>0</td>\n",
       "      <td>0</td>\n",
       "      <td>1</td>\n",
       "    </tr>\n",
       "    <tr>\n",
       "      <th>4</th>\n",
       "      <td>Ready To Move</td>\n",
       "      <td>2 BHK</td>\n",
       "      <td>NaN</td>\n",
       "      <td>1200</td>\n",
       "      <td>2.0</td>\n",
       "      <td>1.0</td>\n",
       "      <td>51.00</td>\n",
       "      <td>Aundh Road</td>\n",
       "      <td>0</td>\n",
       "      <td>0</td>\n",
       "      <td>0</td>\n",
       "      <td>1</td>\n",
       "    </tr>\n",
       "    <tr>\n",
       "      <th>...</th>\n",
       "      <td>...</td>\n",
       "      <td>...</td>\n",
       "      <td>...</td>\n",
       "      <td>...</td>\n",
       "      <td>...</td>\n",
       "      <td>...</td>\n",
       "      <td>...</td>\n",
       "      <td>...</td>\n",
       "      <td>...</td>\n",
       "      <td>...</td>\n",
       "      <td>...</td>\n",
       "      <td>...</td>\n",
       "    </tr>\n",
       "    <tr>\n",
       "      <th>13315</th>\n",
       "      <td>Ready To Move</td>\n",
       "      <td>5 Bedroom</td>\n",
       "      <td>ArsiaEx</td>\n",
       "      <td>3453</td>\n",
       "      <td>4.0</td>\n",
       "      <td>0.0</td>\n",
       "      <td>231.00</td>\n",
       "      <td>Pashan</td>\n",
       "      <td>1</td>\n",
       "      <td>0</td>\n",
       "      <td>0</td>\n",
       "      <td>0</td>\n",
       "    </tr>\n",
       "    <tr>\n",
       "      <th>13316</th>\n",
       "      <td>Ready To Move</td>\n",
       "      <td>4 BHK</td>\n",
       "      <td>NaN</td>\n",
       "      <td>3600</td>\n",
       "      <td>5.0</td>\n",
       "      <td>NaN</td>\n",
       "      <td>400.00</td>\n",
       "      <td>Paud Road</td>\n",
       "      <td>0</td>\n",
       "      <td>0</td>\n",
       "      <td>0</td>\n",
       "      <td>1</td>\n",
       "    </tr>\n",
       "    <tr>\n",
       "      <th>13317</th>\n",
       "      <td>Ready To Move</td>\n",
       "      <td>2 BHK</td>\n",
       "      <td>Mahla T</td>\n",
       "      <td>1141</td>\n",
       "      <td>2.0</td>\n",
       "      <td>1.0</td>\n",
       "      <td>60.00</td>\n",
       "      <td>Pirangut</td>\n",
       "      <td>1</td>\n",
       "      <td>0</td>\n",
       "      <td>0</td>\n",
       "      <td>0</td>\n",
       "    </tr>\n",
       "    <tr>\n",
       "      <th>13318</th>\n",
       "      <td>18-Jun</td>\n",
       "      <td>4 BHK</td>\n",
       "      <td>SollyCl</td>\n",
       "      <td>4689</td>\n",
       "      <td>4.0</td>\n",
       "      <td>1.0</td>\n",
       "      <td>488.00</td>\n",
       "      <td>Prabhat Road</td>\n",
       "      <td>0</td>\n",
       "      <td>0</td>\n",
       "      <td>0</td>\n",
       "      <td>1</td>\n",
       "    </tr>\n",
       "    <tr>\n",
       "      <th>13319</th>\n",
       "      <td>Ready To Move</td>\n",
       "      <td>1 BHK</td>\n",
       "      <td>NaN</td>\n",
       "      <td>550</td>\n",
       "      <td>1.0</td>\n",
       "      <td>1.0</td>\n",
       "      <td>17.00</td>\n",
       "      <td>Pune Railway Station</td>\n",
       "      <td>0</td>\n",
       "      <td>0</td>\n",
       "      <td>0</td>\n",
       "      <td>1</td>\n",
       "    </tr>\n",
       "  </tbody>\n",
       "</table>\n",
       "<p>13320 rows × 12 columns</p>\n",
       "</div>"
      ],
      "text/plain": [
       "        availability       size  society total_sqft  bath  balcony   price  \\\n",
       "0             19-Dec      2 BHK  Coomee        1056   2.0      1.0   39.07   \n",
       "1      Ready To Move  4 Bedroom  Theanmp       2600   5.0      3.0  120.00   \n",
       "2      Ready To Move      3 BHK      NaN       1440   2.0      3.0   62.00   \n",
       "3      Ready To Move      3 BHK  Soiewre       1521   3.0      1.0   95.00   \n",
       "4      Ready To Move      2 BHK      NaN       1200   2.0      1.0   51.00   \n",
       "...              ...        ...      ...        ...   ...      ...     ...   \n",
       "13315  Ready To Move  5 Bedroom  ArsiaEx       3453   4.0      0.0  231.00   \n",
       "13316  Ready To Move      4 BHK      NaN       3600   5.0      NaN  400.00   \n",
       "13317  Ready To Move      2 BHK  Mahla T       1141   2.0      1.0   60.00   \n",
       "13318         18-Jun      4 BHK  SollyCl       4689   4.0      1.0  488.00   \n",
       "13319  Ready To Move      1 BHK      NaN        550   1.0      1.0   17.00   \n",
       "\n",
       "              site_location  area_type_Built-up  Area  area_type_Carpet  Area  \\\n",
       "0               Alandi Road                         0                       0   \n",
       "1           Ambegaon Budruk                         0                       0   \n",
       "2                Anandnagar                         1                       0   \n",
       "3                     Aundh                         0                       0   \n",
       "4                Aundh Road                         0                       0   \n",
       "...                     ...                       ...                     ...   \n",
       "13315                Pashan                         1                       0   \n",
       "13316             Paud Road                         0                       0   \n",
       "13317              Pirangut                         1                       0   \n",
       "13318          Prabhat Road                         0                       0   \n",
       "13319  Pune Railway Station                         0                       0   \n",
       "\n",
       "       area_type_Plot  Area  area_type_Super built-up  Area  \n",
       "0                         0                               1  \n",
       "1                         1                               0  \n",
       "2                         0                               0  \n",
       "3                         0                               1  \n",
       "4                         0                               1  \n",
       "...                     ...                             ...  \n",
       "13315                     0                               0  \n",
       "13316                     0                               1  \n",
       "13317                     0                               0  \n",
       "13318                     0                               1  \n",
       "13319                     0                               1  \n",
       "\n",
       "[13320 rows x 12 columns]"
      ]
     },
     "execution_count": 9,
     "metadata": {},
     "output_type": "execute_result"
    }
   ],
   "source": [
    "df=pd.get_dummies(df,columns=['area_type'])\n",
    "df"
   ]
  },
  {
   "cell_type": "markdown",
   "id": "bb2de7e4",
   "metadata": {},
   "source": [
    "### 2. availability"
   ]
  },
  {
   "cell_type": "code",
   "execution_count": 10,
   "id": "07584bd2",
   "metadata": {},
   "outputs": [
    {
     "data": {
      "text/plain": [
       "array(['19-Dec', 'Ready To Move', '18-May', '18-Feb', '18-Nov', '20-Dec',\n",
       "       '17-Oct', '21-Dec', '19-Sep', '20-Sep', '18-Mar', '20-Feb',\n",
       "       '18-Apr', '20-Aug', '18-Oct', '19-Mar', '17-Sep', '18-Dec',\n",
       "       '17-Aug', '19-Apr', '18-Jun', '22-Dec', '22-Jan', '18-Aug',\n",
       "       '19-Jan', '17-Jul', '18-Jul', '21-Jun', '20-May', '19-Aug',\n",
       "       '18-Sep', '17-May', '17-Jun', '21-May', '18-Jan', '20-Mar',\n",
       "       '17-Dec', '16-Mar', '19-Jun', '22-Jun', '19-Jul', '21-Feb',\n",
       "       'Immediate Possession', '19-May', '17-Nov', '20-Oct', '20-Jun',\n",
       "       '19-Feb', '21-Oct', '21-Jan', '17-Mar', '17-Apr', '22-May',\n",
       "       '19-Oct', '21-Jul', '21-Nov', '21-Mar', '16-Dec', '22-Mar',\n",
       "       '20-Jan', '21-Sep', '21-Aug', '14-Nov', '19-Nov', '15-Nov',\n",
       "       '16-Jul', '15-Jun', '17-Feb', '20-Nov', '20-Jul', '16-Sep',\n",
       "       '15-Oct', '15-Dec', '16-Oct', '22-Nov', '15-Aug', '17-Jan',\n",
       "       '16-Nov', '20-Apr', '16-Jan', '14-Jul'], dtype=object)"
      ]
     },
     "execution_count": 10,
     "metadata": {},
     "output_type": "execute_result"
    }
   ],
   "source": [
    "df[\"availability\"].unique()"
   ]
  },
  {
   "cell_type": "raw",
   "id": "478d457f",
   "metadata": {},
   "source": [
    "1. 'Ready To Move' & 'Immediate Possession' will have high priority from customber\n",
    "    so it will give rise to price of house\n",
    "2. and others are having some due dates to get ready so there is some lead or waiting time for \n",
    "    customber to get awaited which is least preferred than above two cases"
   ]
  },
  {
   "cell_type": "code",
   "execution_count": 11,
   "id": "8bab42b3",
   "metadata": {},
   "outputs": [
    {
     "data": {
      "text/plain": [
       "{'19-Dec': 0,\n",
       " 'Ready To Move': 1,\n",
       " '18-May': 0,\n",
       " '18-Feb': 0,\n",
       " '18-Nov': 0,\n",
       " '20-Dec': 0,\n",
       " '17-Oct': 0,\n",
       " '21-Dec': 0,\n",
       " '19-Sep': 0,\n",
       " '20-Sep': 0,\n",
       " '18-Mar': 0,\n",
       " '20-Feb': 0,\n",
       " '18-Apr': 0,\n",
       " '20-Aug': 0,\n",
       " '18-Oct': 0,\n",
       " '19-Mar': 0,\n",
       " '17-Sep': 0,\n",
       " '18-Dec': 0,\n",
       " '17-Aug': 0,\n",
       " '19-Apr': 0,\n",
       " '18-Jun': 0,\n",
       " '22-Dec': 0,\n",
       " '22-Jan': 0,\n",
       " '18-Aug': 0,\n",
       " '19-Jan': 0,\n",
       " '17-Jul': 0,\n",
       " '18-Jul': 0,\n",
       " '21-Jun': 0,\n",
       " '20-May': 0,\n",
       " '19-Aug': 0,\n",
       " '18-Sep': 0,\n",
       " '17-May': 0,\n",
       " '17-Jun': 0,\n",
       " '21-May': 0,\n",
       " '18-Jan': 0,\n",
       " '20-Mar': 0,\n",
       " '17-Dec': 0,\n",
       " '16-Mar': 0,\n",
       " '19-Jun': 0,\n",
       " '22-Jun': 0,\n",
       " '19-Jul': 0,\n",
       " '21-Feb': 0,\n",
       " 'Immediate Possession': 1,\n",
       " '19-May': 0,\n",
       " '17-Nov': 0,\n",
       " '20-Oct': 0,\n",
       " '20-Jun': 0,\n",
       " '19-Feb': 0,\n",
       " '21-Oct': 0,\n",
       " '21-Jan': 0,\n",
       " '17-Mar': 0,\n",
       " '17-Apr': 0,\n",
       " '22-May': 0,\n",
       " '19-Oct': 0,\n",
       " '21-Jul': 0,\n",
       " '21-Nov': 0,\n",
       " '21-Mar': 0,\n",
       " '16-Dec': 0,\n",
       " '22-Mar': 0,\n",
       " '20-Jan': 0,\n",
       " '21-Sep': 0,\n",
       " '21-Aug': 0,\n",
       " '14-Nov': 0,\n",
       " '19-Nov': 0,\n",
       " '15-Nov': 0,\n",
       " '16-Jul': 0,\n",
       " '15-Jun': 0,\n",
       " '17-Feb': 0,\n",
       " '20-Nov': 0,\n",
       " '20-Jul': 0,\n",
       " '16-Sep': 0,\n",
       " '15-Oct': 0,\n",
       " '15-Dec': 0,\n",
       " '16-Oct': 0,\n",
       " '22-Nov': 0,\n",
       " '15-Aug': 0,\n",
       " '17-Jan': 0,\n",
       " '16-Nov': 0,\n",
       " '20-Apr': 0,\n",
       " '16-Jan': 0,\n",
       " '14-Jul': 0}"
      ]
     },
     "execution_count": 11,
     "metadata": {},
     "output_type": "execute_result"
    }
   ],
   "source": [
    "df[\"availability\"].unique().tolist()\n",
    "dict_availability = {i: 0 for i in df[\"availability\"].unique().tolist()}\n",
    "dict_availability[\"Ready To Move\"] =1\n",
    "dict_availability[\"Immediate Possession\"] =1\n",
    "dict_availability"
   ]
  },
  {
   "cell_type": "code",
   "execution_count": 12,
   "id": "6ccc0f0b",
   "metadata": {},
   "outputs": [
    {
     "data": {
      "text/plain": [
       "0        0\n",
       "1        1\n",
       "2        1\n",
       "3        1\n",
       "4        1\n",
       "        ..\n",
       "13315    1\n",
       "13316    1\n",
       "13317    1\n",
       "13318    0\n",
       "13319    1\n",
       "Name: availability, Length: 13320, dtype: int64"
      ]
     },
     "execution_count": 12,
     "metadata": {},
     "output_type": "execute_result"
    }
   ],
   "source": [
    "df[\"availability\"].replace(dict_availability,inplace=True)\n",
    "df[\"availability\"]"
   ]
  },
  {
   "cell_type": "code",
   "execution_count": 13,
   "id": "6b182c58",
   "metadata": {},
   "outputs": [
    {
     "data": {
      "text/plain": [
       "1    10597\n",
       "0     2723\n",
       "Name: availability, dtype: int64"
      ]
     },
     "execution_count": 13,
     "metadata": {},
     "output_type": "execute_result"
    }
   ],
   "source": [
    "df[\"availability\"].value_counts()"
   ]
  },
  {
   "cell_type": "code",
   "execution_count": 14,
   "id": "bce12eb9",
   "metadata": {},
   "outputs": [
    {
     "data": {
      "text/plain": [
       "0"
      ]
     },
     "execution_count": 14,
     "metadata": {},
     "output_type": "execute_result"
    }
   ],
   "source": [
    "df[\"availability\"].isna().sum()"
   ]
  },
  {
   "cell_type": "markdown",
   "id": "8e6f1e24",
   "metadata": {},
   "source": [
    "### 3. size"
   ]
  },
  {
   "cell_type": "code",
   "execution_count": 15,
   "id": "2d60ff3f",
   "metadata": {},
   "outputs": [
    {
     "data": {
      "text/plain": [
       "array(['2 BHK', '4 Bedroom', '3 BHK', '4 BHK', '6 Bedroom', '3 Bedroom',\n",
       "       '1 BHK', '1 RK', '1 Bedroom', '8 Bedroom', '2 Bedroom',\n",
       "       '7 Bedroom', '5 BHK', '7 BHK', '6 BHK', '5 Bedroom', '11 BHK',\n",
       "       '9 BHK', nan, '9 Bedroom', '27 BHK', '10 Bedroom', '11 Bedroom',\n",
       "       '10 BHK', '19 BHK', '16 BHK', '43 Bedroom', '14 BHK', '8 BHK',\n",
       "       '12 Bedroom', '13 BHK', '18 Bedroom'], dtype=object)"
      ]
     },
     "execution_count": 15,
     "metadata": {},
     "output_type": "execute_result"
    }
   ],
   "source": [
    "df[\"size\"].unique()"
   ]
  },
  {
   "cell_type": "code",
   "execution_count": 16,
   "id": "d3b5913f",
   "metadata": {},
   "outputs": [
    {
     "data": {
      "text/plain": [
       "2 BHK         5199\n",
       "3 BHK         4310\n",
       "4 Bedroom      826\n",
       "4 BHK          591\n",
       "3 Bedroom      547\n",
       "1 BHK          538\n",
       "2 Bedroom      329\n",
       "5 Bedroom      297\n",
       "6 Bedroom      191\n",
       "1 Bedroom      105\n",
       "8 Bedroom       84\n",
       "7 Bedroom       83\n",
       "5 BHK           59\n",
       "9 Bedroom       46\n",
       "6 BHK           30\n",
       "7 BHK           17\n",
       "1 RK            13\n",
       "10 Bedroom      12\n",
       "9 BHK            8\n",
       "8 BHK            5\n",
       "11 BHK           2\n",
       "11 Bedroom       2\n",
       "10 BHK           2\n",
       "14 BHK           1\n",
       "13 BHK           1\n",
       "12 Bedroom       1\n",
       "27 BHK           1\n",
       "43 Bedroom       1\n",
       "16 BHK           1\n",
       "19 BHK           1\n",
       "18 Bedroom       1\n",
       "Name: size, dtype: int64"
      ]
     },
     "execution_count": 16,
     "metadata": {},
     "output_type": "execute_result"
    }
   ],
   "source": [
    "df[\"size\"].value_counts()"
   ]
  },
  {
   "cell_type": "code",
   "execution_count": 17,
   "id": "76c4448b",
   "metadata": {},
   "outputs": [
    {
     "data": {
      "text/plain": [
       "0            2 BHK\n",
       "1        4 Bedroom\n",
       "2            3 BHK\n",
       "3            3 BHK\n",
       "4            2 BHK\n",
       "           ...    \n",
       "13315    5 Bedroom\n",
       "13316        4 BHK\n",
       "13317        2 BHK\n",
       "13318        4 BHK\n",
       "13319        1 BHK\n",
       "Name: size, Length: 13320, dtype: object"
      ]
     },
     "execution_count": 17,
     "metadata": {},
     "output_type": "execute_result"
    }
   ],
   "source": [
    "df['size'].fillna(df[\"size\"].mode()[0],inplace=True) # as there was missing value we filled it with mode\n",
    "df[\"size\"]"
   ]
  },
  {
   "cell_type": "code",
   "execution_count": 18,
   "id": "eff5be73",
   "metadata": {},
   "outputs": [
    {
     "data": {
      "text/plain": [
       "0"
      ]
     },
     "execution_count": 18,
     "metadata": {},
     "output_type": "execute_result"
    }
   ],
   "source": [
    "df[\"size\"].isna().sum()"
   ]
  },
  {
   "cell_type": "code",
   "execution_count": 19,
   "id": "f172a4ae",
   "metadata": {},
   "outputs": [
    {
     "data": {
      "text/plain": [
       "0            2 BHK\n",
       "1        4 Bedroom\n",
       "2            3 BHK\n",
       "3            3 BHK\n",
       "4            2 BHK\n",
       "           ...    \n",
       "13315    5 Bedroom\n",
       "13316        4 BHK\n",
       "13317        2 BHK\n",
       "13318        4 BHK\n",
       "13319        1 BHK\n",
       "Name: size, Length: 13320, dtype: object"
      ]
     },
     "execution_count": 19,
     "metadata": {},
     "output_type": "execute_result"
    }
   ],
   "source": [
    "dict_size = {'2 BHK': 2,\n",
    " '3 BHK': 3,\n",
    " '4 Bedroom': 4,\n",
    " '4 BHK': 4,\n",
    " '3 Bedroom': 3,\n",
    " '1 BHK': 1,\n",
    " '2 Bedroom': 2,\n",
    " '5 Bedroom': 5,\n",
    " '6 Bedroom': 6,\n",
    " '1 Bedroom': 1,\n",
    " '8 Bedroom': 8,\n",
    " '7 Bedroom': 7,\n",
    " '5 BHK': 5,\n",
    " '9 Bedroom': 9,\n",
    " '6 BHK': 6,\n",
    " '7 BHK': 7,\n",
    " '1 RK': 1,\n",
    " '10 Bedroom': 10,\n",
    " '9 BHK': 9,\n",
    " '8 BHK': 8,\n",
    " '11 BHK': 11,\n",
    " '11 Bedroom': 11,\n",
    " '10 BHK': 10,\n",
    " '14 BHK': 14,\n",
    " '13 BHK': 13,\n",
    " '12 Bedroom': 12,\n",
    " '27 BHK': 27,\n",
    " '43 Bedroom': 43,\n",
    " '16 BHK': 16,\n",
    " '19 BHK': 19,\n",
    " '18 Bedroom': 18}\n",
    "df[\"size\"]"
   ]
  },
  {
   "cell_type": "code",
   "execution_count": 20,
   "id": "66a4ee8d",
   "metadata": {},
   "outputs": [
    {
     "data": {
      "text/plain": [
       "0"
      ]
     },
     "execution_count": 20,
     "metadata": {},
     "output_type": "execute_result"
    }
   ],
   "source": [
    "df[\"size\"].isna().sum()"
   ]
  },
  {
   "cell_type": "code",
   "execution_count": 21,
   "id": "3843782d",
   "metadata": {},
   "outputs": [
    {
     "data": {
      "text/html": [
       "<div>\n",
       "<style scoped>\n",
       "    .dataframe tbody tr th:only-of-type {\n",
       "        vertical-align: middle;\n",
       "    }\n",
       "\n",
       "    .dataframe tbody tr th {\n",
       "        vertical-align: top;\n",
       "    }\n",
       "\n",
       "    .dataframe thead th {\n",
       "        text-align: right;\n",
       "    }\n",
       "</style>\n",
       "<table border=\"1\" class=\"dataframe\">\n",
       "  <thead>\n",
       "    <tr style=\"text-align: right;\">\n",
       "      <th></th>\n",
       "      <th>availability</th>\n",
       "      <th>size</th>\n",
       "      <th>society</th>\n",
       "      <th>total_sqft</th>\n",
       "      <th>bath</th>\n",
       "      <th>balcony</th>\n",
       "      <th>price</th>\n",
       "      <th>site_location</th>\n",
       "      <th>area_type_Built-up  Area</th>\n",
       "      <th>area_type_Carpet  Area</th>\n",
       "      <th>area_type_Plot  Area</th>\n",
       "      <th>area_type_Super built-up  Area</th>\n",
       "    </tr>\n",
       "  </thead>\n",
       "  <tbody>\n",
       "    <tr>\n",
       "      <th>0</th>\n",
       "      <td>0</td>\n",
       "      <td>2</td>\n",
       "      <td>Coomee</td>\n",
       "      <td>1056</td>\n",
       "      <td>2.0</td>\n",
       "      <td>1.0</td>\n",
       "      <td>39.07</td>\n",
       "      <td>Alandi Road</td>\n",
       "      <td>0</td>\n",
       "      <td>0</td>\n",
       "      <td>0</td>\n",
       "      <td>1</td>\n",
       "    </tr>\n",
       "    <tr>\n",
       "      <th>1</th>\n",
       "      <td>1</td>\n",
       "      <td>4</td>\n",
       "      <td>Theanmp</td>\n",
       "      <td>2600</td>\n",
       "      <td>5.0</td>\n",
       "      <td>3.0</td>\n",
       "      <td>120.00</td>\n",
       "      <td>Ambegaon Budruk</td>\n",
       "      <td>0</td>\n",
       "      <td>0</td>\n",
       "      <td>1</td>\n",
       "      <td>0</td>\n",
       "    </tr>\n",
       "    <tr>\n",
       "      <th>2</th>\n",
       "      <td>1</td>\n",
       "      <td>3</td>\n",
       "      <td>NaN</td>\n",
       "      <td>1440</td>\n",
       "      <td>2.0</td>\n",
       "      <td>3.0</td>\n",
       "      <td>62.00</td>\n",
       "      <td>Anandnagar</td>\n",
       "      <td>1</td>\n",
       "      <td>0</td>\n",
       "      <td>0</td>\n",
       "      <td>0</td>\n",
       "    </tr>\n",
       "    <tr>\n",
       "      <th>3</th>\n",
       "      <td>1</td>\n",
       "      <td>3</td>\n",
       "      <td>Soiewre</td>\n",
       "      <td>1521</td>\n",
       "      <td>3.0</td>\n",
       "      <td>1.0</td>\n",
       "      <td>95.00</td>\n",
       "      <td>Aundh</td>\n",
       "      <td>0</td>\n",
       "      <td>0</td>\n",
       "      <td>0</td>\n",
       "      <td>1</td>\n",
       "    </tr>\n",
       "    <tr>\n",
       "      <th>4</th>\n",
       "      <td>1</td>\n",
       "      <td>2</td>\n",
       "      <td>NaN</td>\n",
       "      <td>1200</td>\n",
       "      <td>2.0</td>\n",
       "      <td>1.0</td>\n",
       "      <td>51.00</td>\n",
       "      <td>Aundh Road</td>\n",
       "      <td>0</td>\n",
       "      <td>0</td>\n",
       "      <td>0</td>\n",
       "      <td>1</td>\n",
       "    </tr>\n",
       "    <tr>\n",
       "      <th>...</th>\n",
       "      <td>...</td>\n",
       "      <td>...</td>\n",
       "      <td>...</td>\n",
       "      <td>...</td>\n",
       "      <td>...</td>\n",
       "      <td>...</td>\n",
       "      <td>...</td>\n",
       "      <td>...</td>\n",
       "      <td>...</td>\n",
       "      <td>...</td>\n",
       "      <td>...</td>\n",
       "      <td>...</td>\n",
       "    </tr>\n",
       "    <tr>\n",
       "      <th>13315</th>\n",
       "      <td>1</td>\n",
       "      <td>5</td>\n",
       "      <td>ArsiaEx</td>\n",
       "      <td>3453</td>\n",
       "      <td>4.0</td>\n",
       "      <td>0.0</td>\n",
       "      <td>231.00</td>\n",
       "      <td>Pashan</td>\n",
       "      <td>1</td>\n",
       "      <td>0</td>\n",
       "      <td>0</td>\n",
       "      <td>0</td>\n",
       "    </tr>\n",
       "    <tr>\n",
       "      <th>13316</th>\n",
       "      <td>1</td>\n",
       "      <td>4</td>\n",
       "      <td>NaN</td>\n",
       "      <td>3600</td>\n",
       "      <td>5.0</td>\n",
       "      <td>NaN</td>\n",
       "      <td>400.00</td>\n",
       "      <td>Paud Road</td>\n",
       "      <td>0</td>\n",
       "      <td>0</td>\n",
       "      <td>0</td>\n",
       "      <td>1</td>\n",
       "    </tr>\n",
       "    <tr>\n",
       "      <th>13317</th>\n",
       "      <td>1</td>\n",
       "      <td>2</td>\n",
       "      <td>Mahla T</td>\n",
       "      <td>1141</td>\n",
       "      <td>2.0</td>\n",
       "      <td>1.0</td>\n",
       "      <td>60.00</td>\n",
       "      <td>Pirangut</td>\n",
       "      <td>1</td>\n",
       "      <td>0</td>\n",
       "      <td>0</td>\n",
       "      <td>0</td>\n",
       "    </tr>\n",
       "    <tr>\n",
       "      <th>13318</th>\n",
       "      <td>0</td>\n",
       "      <td>4</td>\n",
       "      <td>SollyCl</td>\n",
       "      <td>4689</td>\n",
       "      <td>4.0</td>\n",
       "      <td>1.0</td>\n",
       "      <td>488.00</td>\n",
       "      <td>Prabhat Road</td>\n",
       "      <td>0</td>\n",
       "      <td>0</td>\n",
       "      <td>0</td>\n",
       "      <td>1</td>\n",
       "    </tr>\n",
       "    <tr>\n",
       "      <th>13319</th>\n",
       "      <td>1</td>\n",
       "      <td>1</td>\n",
       "      <td>NaN</td>\n",
       "      <td>550</td>\n",
       "      <td>1.0</td>\n",
       "      <td>1.0</td>\n",
       "      <td>17.00</td>\n",
       "      <td>Pune Railway Station</td>\n",
       "      <td>0</td>\n",
       "      <td>0</td>\n",
       "      <td>0</td>\n",
       "      <td>1</td>\n",
       "    </tr>\n",
       "  </tbody>\n",
       "</table>\n",
       "<p>13320 rows × 12 columns</p>\n",
       "</div>"
      ],
      "text/plain": [
       "       availability  size  society total_sqft  bath  balcony   price  \\\n",
       "0                 0     2  Coomee        1056   2.0      1.0   39.07   \n",
       "1                 1     4  Theanmp       2600   5.0      3.0  120.00   \n",
       "2                 1     3      NaN       1440   2.0      3.0   62.00   \n",
       "3                 1     3  Soiewre       1521   3.0      1.0   95.00   \n",
       "4                 1     2      NaN       1200   2.0      1.0   51.00   \n",
       "...             ...   ...      ...        ...   ...      ...     ...   \n",
       "13315             1     5  ArsiaEx       3453   4.0      0.0  231.00   \n",
       "13316             1     4      NaN       3600   5.0      NaN  400.00   \n",
       "13317             1     2  Mahla T       1141   2.0      1.0   60.00   \n",
       "13318             0     4  SollyCl       4689   4.0      1.0  488.00   \n",
       "13319             1     1      NaN        550   1.0      1.0   17.00   \n",
       "\n",
       "              site_location  area_type_Built-up  Area  area_type_Carpet  Area  \\\n",
       "0               Alandi Road                         0                       0   \n",
       "1           Ambegaon Budruk                         0                       0   \n",
       "2                Anandnagar                         1                       0   \n",
       "3                     Aundh                         0                       0   \n",
       "4                Aundh Road                         0                       0   \n",
       "...                     ...                       ...                     ...   \n",
       "13315                Pashan                         1                       0   \n",
       "13316             Paud Road                         0                       0   \n",
       "13317              Pirangut                         1                       0   \n",
       "13318          Prabhat Road                         0                       0   \n",
       "13319  Pune Railway Station                         0                       0   \n",
       "\n",
       "       area_type_Plot  Area  area_type_Super built-up  Area  \n",
       "0                         0                               1  \n",
       "1                         1                               0  \n",
       "2                         0                               0  \n",
       "3                         0                               1  \n",
       "4                         0                               1  \n",
       "...                     ...                             ...  \n",
       "13315                     0                               0  \n",
       "13316                     0                               1  \n",
       "13317                     0                               0  \n",
       "13318                     0                               1  \n",
       "13319                     0                               1  \n",
       "\n",
       "[13320 rows x 12 columns]"
      ]
     },
     "execution_count": 21,
     "metadata": {},
     "output_type": "execute_result"
    }
   ],
   "source": [
    "df[\"size\"].replace(dict_size,inplace=True)\n",
    "df"
   ]
  },
  {
   "cell_type": "markdown",
   "id": "f5ea0c59",
   "metadata": {},
   "source": [
    "### 4.society"
   ]
  },
  {
   "cell_type": "code",
   "execution_count": 22,
   "id": "9b488caf",
   "metadata": {},
   "outputs": [
    {
     "data": {
      "text/plain": [
       "array(['Coomee ', 'Theanmp', nan, ..., 'SJovest', 'ThhtsV ', 'RSntsAp'],\n",
       "      dtype=object)"
      ]
     },
     "execution_count": 22,
     "metadata": {},
     "output_type": "execute_result"
    }
   ],
   "source": [
    "df[\"society\"].unique()\n"
   ]
  },
  {
   "cell_type": "code",
   "execution_count": 23,
   "id": "834ce8d3",
   "metadata": {},
   "outputs": [
    {
     "data": {
      "text/plain": [
       "GrrvaGr    80\n",
       "PrarePa    76\n",
       "Sryalan    59\n",
       "Prtates    59\n",
       "GMown E    56\n",
       "           ..\n",
       "Amionce     1\n",
       "JaghtDe     1\n",
       "Jauraht     1\n",
       "Brity U     1\n",
       "RSntsAp     1\n",
       "Name: society, Length: 2688, dtype: int64"
      ]
     },
     "execution_count": 23,
     "metadata": {},
     "output_type": "execute_result"
    }
   ],
   "source": [
    "df[\"society\"].value_counts()"
   ]
  },
  {
   "cell_type": "code",
   "execution_count": 24,
   "id": "275e306b",
   "metadata": {},
   "outputs": [
    {
     "data": {
      "text/plain": [
       "5502"
      ]
     },
     "execution_count": 24,
     "metadata": {},
     "output_type": "execute_result"
    }
   ],
   "source": [
    "df[\"society\"].isna().sum()"
   ]
  },
  {
   "cell_type": "raw",
   "id": "3ddfb414",
   "metadata": {},
   "source": [
    "Observation: As we can see their are 2689 categories in 'society' columns and 5502 records are misssing\n",
    "    and total number of records are 13320\n",
    "    \n",
    "    It will afffect the accuracy of model Hence, it is prefered to drop this column."
   ]
  },
  {
   "cell_type": "code",
   "execution_count": 25,
   "id": "bd598776",
   "metadata": {},
   "outputs": [],
   "source": [
    "df.drop(\"society\",axis=1,inplace=True)"
   ]
  },
  {
   "cell_type": "code",
   "execution_count": 26,
   "id": "1c5ec985",
   "metadata": {},
   "outputs": [
    {
     "data": {
      "text/html": [
       "<div>\n",
       "<style scoped>\n",
       "    .dataframe tbody tr th:only-of-type {\n",
       "        vertical-align: middle;\n",
       "    }\n",
       "\n",
       "    .dataframe tbody tr th {\n",
       "        vertical-align: top;\n",
       "    }\n",
       "\n",
       "    .dataframe thead th {\n",
       "        text-align: right;\n",
       "    }\n",
       "</style>\n",
       "<table border=\"1\" class=\"dataframe\">\n",
       "  <thead>\n",
       "    <tr style=\"text-align: right;\">\n",
       "      <th></th>\n",
       "      <th>availability</th>\n",
       "      <th>size</th>\n",
       "      <th>total_sqft</th>\n",
       "      <th>bath</th>\n",
       "      <th>balcony</th>\n",
       "      <th>price</th>\n",
       "      <th>site_location</th>\n",
       "      <th>area_type_Built-up  Area</th>\n",
       "      <th>area_type_Carpet  Area</th>\n",
       "      <th>area_type_Plot  Area</th>\n",
       "      <th>area_type_Super built-up  Area</th>\n",
       "    </tr>\n",
       "  </thead>\n",
       "  <tbody>\n",
       "    <tr>\n",
       "      <th>0</th>\n",
       "      <td>0</td>\n",
       "      <td>2</td>\n",
       "      <td>1056</td>\n",
       "      <td>2.0</td>\n",
       "      <td>1.0</td>\n",
       "      <td>39.07</td>\n",
       "      <td>Alandi Road</td>\n",
       "      <td>0</td>\n",
       "      <td>0</td>\n",
       "      <td>0</td>\n",
       "      <td>1</td>\n",
       "    </tr>\n",
       "    <tr>\n",
       "      <th>1</th>\n",
       "      <td>1</td>\n",
       "      <td>4</td>\n",
       "      <td>2600</td>\n",
       "      <td>5.0</td>\n",
       "      <td>3.0</td>\n",
       "      <td>120.00</td>\n",
       "      <td>Ambegaon Budruk</td>\n",
       "      <td>0</td>\n",
       "      <td>0</td>\n",
       "      <td>1</td>\n",
       "      <td>0</td>\n",
       "    </tr>\n",
       "    <tr>\n",
       "      <th>2</th>\n",
       "      <td>1</td>\n",
       "      <td>3</td>\n",
       "      <td>1440</td>\n",
       "      <td>2.0</td>\n",
       "      <td>3.0</td>\n",
       "      <td>62.00</td>\n",
       "      <td>Anandnagar</td>\n",
       "      <td>1</td>\n",
       "      <td>0</td>\n",
       "      <td>0</td>\n",
       "      <td>0</td>\n",
       "    </tr>\n",
       "    <tr>\n",
       "      <th>3</th>\n",
       "      <td>1</td>\n",
       "      <td>3</td>\n",
       "      <td>1521</td>\n",
       "      <td>3.0</td>\n",
       "      <td>1.0</td>\n",
       "      <td>95.00</td>\n",
       "      <td>Aundh</td>\n",
       "      <td>0</td>\n",
       "      <td>0</td>\n",
       "      <td>0</td>\n",
       "      <td>1</td>\n",
       "    </tr>\n",
       "    <tr>\n",
       "      <th>4</th>\n",
       "      <td>1</td>\n",
       "      <td>2</td>\n",
       "      <td>1200</td>\n",
       "      <td>2.0</td>\n",
       "      <td>1.0</td>\n",
       "      <td>51.00</td>\n",
       "      <td>Aundh Road</td>\n",
       "      <td>0</td>\n",
       "      <td>0</td>\n",
       "      <td>0</td>\n",
       "      <td>1</td>\n",
       "    </tr>\n",
       "    <tr>\n",
       "      <th>...</th>\n",
       "      <td>...</td>\n",
       "      <td>...</td>\n",
       "      <td>...</td>\n",
       "      <td>...</td>\n",
       "      <td>...</td>\n",
       "      <td>...</td>\n",
       "      <td>...</td>\n",
       "      <td>...</td>\n",
       "      <td>...</td>\n",
       "      <td>...</td>\n",
       "      <td>...</td>\n",
       "    </tr>\n",
       "    <tr>\n",
       "      <th>13315</th>\n",
       "      <td>1</td>\n",
       "      <td>5</td>\n",
       "      <td>3453</td>\n",
       "      <td>4.0</td>\n",
       "      <td>0.0</td>\n",
       "      <td>231.00</td>\n",
       "      <td>Pashan</td>\n",
       "      <td>1</td>\n",
       "      <td>0</td>\n",
       "      <td>0</td>\n",
       "      <td>0</td>\n",
       "    </tr>\n",
       "    <tr>\n",
       "      <th>13316</th>\n",
       "      <td>1</td>\n",
       "      <td>4</td>\n",
       "      <td>3600</td>\n",
       "      <td>5.0</td>\n",
       "      <td>NaN</td>\n",
       "      <td>400.00</td>\n",
       "      <td>Paud Road</td>\n",
       "      <td>0</td>\n",
       "      <td>0</td>\n",
       "      <td>0</td>\n",
       "      <td>1</td>\n",
       "    </tr>\n",
       "    <tr>\n",
       "      <th>13317</th>\n",
       "      <td>1</td>\n",
       "      <td>2</td>\n",
       "      <td>1141</td>\n",
       "      <td>2.0</td>\n",
       "      <td>1.0</td>\n",
       "      <td>60.00</td>\n",
       "      <td>Pirangut</td>\n",
       "      <td>1</td>\n",
       "      <td>0</td>\n",
       "      <td>0</td>\n",
       "      <td>0</td>\n",
       "    </tr>\n",
       "    <tr>\n",
       "      <th>13318</th>\n",
       "      <td>0</td>\n",
       "      <td>4</td>\n",
       "      <td>4689</td>\n",
       "      <td>4.0</td>\n",
       "      <td>1.0</td>\n",
       "      <td>488.00</td>\n",
       "      <td>Prabhat Road</td>\n",
       "      <td>0</td>\n",
       "      <td>0</td>\n",
       "      <td>0</td>\n",
       "      <td>1</td>\n",
       "    </tr>\n",
       "    <tr>\n",
       "      <th>13319</th>\n",
       "      <td>1</td>\n",
       "      <td>1</td>\n",
       "      <td>550</td>\n",
       "      <td>1.0</td>\n",
       "      <td>1.0</td>\n",
       "      <td>17.00</td>\n",
       "      <td>Pune Railway Station</td>\n",
       "      <td>0</td>\n",
       "      <td>0</td>\n",
       "      <td>0</td>\n",
       "      <td>1</td>\n",
       "    </tr>\n",
       "  </tbody>\n",
       "</table>\n",
       "<p>13320 rows × 11 columns</p>\n",
       "</div>"
      ],
      "text/plain": [
       "       availability  size total_sqft  bath  balcony   price  \\\n",
       "0                 0     2       1056   2.0      1.0   39.07   \n",
       "1                 1     4       2600   5.0      3.0  120.00   \n",
       "2                 1     3       1440   2.0      3.0   62.00   \n",
       "3                 1     3       1521   3.0      1.0   95.00   \n",
       "4                 1     2       1200   2.0      1.0   51.00   \n",
       "...             ...   ...        ...   ...      ...     ...   \n",
       "13315             1     5       3453   4.0      0.0  231.00   \n",
       "13316             1     4       3600   5.0      NaN  400.00   \n",
       "13317             1     2       1141   2.0      1.0   60.00   \n",
       "13318             0     4       4689   4.0      1.0  488.00   \n",
       "13319             1     1        550   1.0      1.0   17.00   \n",
       "\n",
       "              site_location  area_type_Built-up  Area  area_type_Carpet  Area  \\\n",
       "0               Alandi Road                         0                       0   \n",
       "1           Ambegaon Budruk                         0                       0   \n",
       "2                Anandnagar                         1                       0   \n",
       "3                     Aundh                         0                       0   \n",
       "4                Aundh Road                         0                       0   \n",
       "...                     ...                       ...                     ...   \n",
       "13315                Pashan                         1                       0   \n",
       "13316             Paud Road                         0                       0   \n",
       "13317              Pirangut                         1                       0   \n",
       "13318          Prabhat Road                         0                       0   \n",
       "13319  Pune Railway Station                         0                       0   \n",
       "\n",
       "       area_type_Plot  Area  area_type_Super built-up  Area  \n",
       "0                         0                               1  \n",
       "1                         1                               0  \n",
       "2                         0                               0  \n",
       "3                         0                               1  \n",
       "4                         0                               1  \n",
       "...                     ...                             ...  \n",
       "13315                     0                               0  \n",
       "13316                     0                               1  \n",
       "13317                     0                               0  \n",
       "13318                     0                               1  \n",
       "13319                     0                               1  \n",
       "\n",
       "[13320 rows x 11 columns]"
      ]
     },
     "execution_count": 26,
     "metadata": {},
     "output_type": "execute_result"
    }
   ],
   "source": [
    "df"
   ]
  },
  {
   "cell_type": "markdown",
   "id": "e6ee7c87",
   "metadata": {},
   "source": [
    "### 5.total_sqft"
   ]
  },
  {
   "cell_type": "code",
   "execution_count": 27,
   "id": "3bd25780",
   "metadata": {},
   "outputs": [
    {
     "data": {
      "text/plain": [
       "array(['1056', '2600', '1440', ..., '1133 - 1384', '774', '4689'],\n",
       "      dtype=object)"
      ]
     },
     "execution_count": 27,
     "metadata": {},
     "output_type": "execute_result"
    }
   ],
   "source": [
    "df['total_sqft'].unique()"
   ]
  },
  {
   "cell_type": "code",
   "execution_count": 28,
   "id": "39dd9b82",
   "metadata": {},
   "outputs": [
    {
     "data": {
      "text/plain": [
       "1200    843\n",
       "1100    221\n",
       "1500    205\n",
       "2400    196\n",
       "600     180\n",
       "       ... \n",
       "3580      1\n",
       "2461      1\n",
       "1437      1\n",
       "2155      1\n",
       "4689      1\n",
       "Name: total_sqft, Length: 2117, dtype: int64"
      ]
     },
     "execution_count": 28,
     "metadata": {},
     "output_type": "execute_result"
    }
   ],
   "source": [
    "df[\"total_sqft\"].value_counts()"
   ]
  },
  {
   "cell_type": "code",
   "execution_count": 29,
   "id": "5244c2e0",
   "metadata": {},
   "outputs": [
    {
     "data": {
      "text/plain": [
       "0"
      ]
     },
     "execution_count": 29,
     "metadata": {},
     "output_type": "execute_result"
    }
   ],
   "source": [
    "df[\"total_sqft\"].isna().sum() # No missing value"
   ]
  },
  {
   "cell_type": "code",
   "execution_count": 30,
   "id": "508ab757",
   "metadata": {},
   "outputs": [
    {
     "name": "stdout",
     "output_type": "stream",
     "text": [
      "<class 'pandas.core.series.Series'>\n",
      "RangeIndex: 13320 entries, 0 to 13319\n",
      "Series name: total_sqft\n",
      "Non-Null Count  Dtype \n",
      "--------------  ----- \n",
      "13320 non-null  object\n",
      "dtypes: object(1)\n",
      "memory usage: 104.2+ KB\n"
     ]
    }
   ],
   "source": [
    "df[\"total_sqft\"].info()"
   ]
  },
  {
   "cell_type": "markdown",
   "id": "ed005374",
   "metadata": {},
   "source": [
    "#### This  feature consists of  range values by applying below function we will replace range with there average value and other unit values with nan and then replace it with median considering of outliers"
   ]
  },
  {
   "cell_type": "code",
   "execution_count": 31,
   "id": "ad1f7a36",
   "metadata": {},
   "outputs": [
    {
     "data": {
      "text/plain": [
       "0        1056.0\n",
       "1        2600.0\n",
       "2        1440.0\n",
       "3        1521.0\n",
       "4        1200.0\n",
       "          ...  \n",
       "13315    3453.0\n",
       "13316    3600.0\n",
       "13317    1141.0\n",
       "13318    4689.0\n",
       "13319     550.0\n",
       "Name: new_total_sqft, Length: 13320, dtype: float64"
      ]
     },
     "execution_count": 31,
     "metadata": {},
     "output_type": "execute_result"
    }
   ],
   "source": [
    "def convert(x):\n",
    "    pp = x.split('-')\n",
    "#     print(\"pp--->\",tokel)\n",
    "    if len(pp) == 2:\n",
    "        return(float(pp[0])+float(pp[1]))/2\n",
    "    try:\n",
    "        return float(x)\n",
    "    except:\n",
    "        return None\n",
    "df['new_total_sqft']=df['total_sqft'].apply(convert)\n",
    "df['new_total_sqft']"
   ]
  },
  {
   "cell_type": "code",
   "execution_count": 32,
   "id": "e521fe9d",
   "metadata": {},
   "outputs": [],
   "source": [
    "df.drop('total_sqft',axis=1,inplace=True)\n",
    "df['new_total_sqft'].fillna(df['new_total_sqft'].median(),inplace=True)"
   ]
  },
  {
   "cell_type": "code",
   "execution_count": 33,
   "id": "70c871d5",
   "metadata": {},
   "outputs": [
    {
     "data": {
      "text/plain": [
       "0"
      ]
     },
     "execution_count": 33,
     "metadata": {},
     "output_type": "execute_result"
    }
   ],
   "source": [
    "df[\"new_total_sqft\"].isna().sum()"
   ]
  },
  {
   "cell_type": "markdown",
   "id": "78dc3a38",
   "metadata": {},
   "source": [
    "### 6. bath"
   ]
  },
  {
   "cell_type": "code",
   "execution_count": 34,
   "id": "a9326387",
   "metadata": {},
   "outputs": [
    {
     "data": {
      "text/plain": [
       "array([ 2.,  5.,  3.,  4.,  6.,  1.,  9., nan,  8.,  7., 11., 10., 14.,\n",
       "       27., 12., 16., 40., 15., 13., 18.])"
      ]
     },
     "execution_count": 34,
     "metadata": {},
     "output_type": "execute_result"
    }
   ],
   "source": [
    "df[\"bath\"].unique()"
   ]
  },
  {
   "cell_type": "code",
   "execution_count": 35,
   "id": "6a210f2e",
   "metadata": {},
   "outputs": [
    {
     "data": {
      "text/plain": [
       "2.0     6908\n",
       "3.0     3286\n",
       "4.0     1226\n",
       "1.0      788\n",
       "5.0      524\n",
       "6.0      273\n",
       "7.0      102\n",
       "8.0       64\n",
       "9.0       43\n",
       "10.0      13\n",
       "12.0       7\n",
       "13.0       3\n",
       "11.0       3\n",
       "16.0       2\n",
       "27.0       1\n",
       "40.0       1\n",
       "15.0       1\n",
       "14.0       1\n",
       "18.0       1\n",
       "Name: bath, dtype: int64"
      ]
     },
     "execution_count": 35,
     "metadata": {},
     "output_type": "execute_result"
    }
   ],
   "source": [
    "df[\"bath\"].value_counts()"
   ]
  },
  {
   "cell_type": "code",
   "execution_count": 36,
   "id": "c75ae2ba",
   "metadata": {},
   "outputs": [
    {
     "data": {
      "text/plain": [
       "73"
      ]
     },
     "execution_count": 36,
     "metadata": {},
     "output_type": "execute_result"
    }
   ],
   "source": [
    "df[\"bath\"].isna().sum()"
   ]
  },
  {
   "cell_type": "code",
   "execution_count": 37,
   "id": "6a434490",
   "metadata": {},
   "outputs": [
    {
     "data": {
      "text/plain": [
       "<AxesSubplot: >"
      ]
     },
     "execution_count": 37,
     "metadata": {},
     "output_type": "execute_result"
    },
    {
     "data": {
      "image/png": "[encoded data removed]",
      "text/plain": [
       "<Figure size 432x288 with 1 Axes>"
      ]
     },
     "metadata": {
      "needs_background": "light"
     },
     "output_type": "display_data"
    }
   ],
   "source": [
    "import seaborn as sns\n",
    "sns.boxplot(df['bath'])"
   ]
  },
  {
   "cell_type": "markdown",
   "id": "03356d56",
   "metadata": {},
   "source": [
    "#### This feature consists of outliers so replacing nan value with median"
   ]
  },
  {
   "cell_type": "code",
   "execution_count": 38,
   "id": "6d57f0a9",
   "metadata": {},
   "outputs": [
    {
     "data": {
      "text/html": [
       "<div>\n",
       "<style scoped>\n",
       "    .dataframe tbody tr th:only-of-type {\n",
       "        vertical-align: middle;\n",
       "    }\n",
       "\n",
       "    .dataframe tbody tr th {\n",
       "        vertical-align: top;\n",
       "    }\n",
       "\n",
       "    .dataframe thead th {\n",
       "        text-align: right;\n",
       "    }\n",
       "</style>\n",
       "<table border=\"1\" class=\"dataframe\">\n",
       "  <thead>\n",
       "    <tr style=\"text-align: right;\">\n",
       "      <th></th>\n",
       "      <th>availability</th>\n",
       "      <th>size</th>\n",
       "      <th>bath</th>\n",
       "      <th>balcony</th>\n",
       "      <th>price</th>\n",
       "      <th>site_location</th>\n",
       "      <th>area_type_Built-up  Area</th>\n",
       "      <th>area_type_Carpet  Area</th>\n",
       "      <th>area_type_Plot  Area</th>\n",
       "      <th>area_type_Super built-up  Area</th>\n",
       "      <th>new_total_sqft</th>\n",
       "    </tr>\n",
       "  </thead>\n",
       "  <tbody>\n",
       "    <tr>\n",
       "      <th>0</th>\n",
       "      <td>0</td>\n",
       "      <td>2</td>\n",
       "      <td>2.0</td>\n",
       "      <td>1.0</td>\n",
       "      <td>39.07</td>\n",
       "      <td>Alandi Road</td>\n",
       "      <td>0</td>\n",
       "      <td>0</td>\n",
       "      <td>0</td>\n",
       "      <td>1</td>\n",
       "      <td>1056.0</td>\n",
       "    </tr>\n",
       "    <tr>\n",
       "      <th>1</th>\n",
       "      <td>1</td>\n",
       "      <td>4</td>\n",
       "      <td>5.0</td>\n",
       "      <td>3.0</td>\n",
       "      <td>120.00</td>\n",
       "      <td>Ambegaon Budruk</td>\n",
       "      <td>0</td>\n",
       "      <td>0</td>\n",
       "      <td>1</td>\n",
       "      <td>0</td>\n",
       "      <td>2600.0</td>\n",
       "    </tr>\n",
       "    <tr>\n",
       "      <th>2</th>\n",
       "      <td>1</td>\n",
       "      <td>3</td>\n",
       "      <td>2.0</td>\n",
       "      <td>3.0</td>\n",
       "      <td>62.00</td>\n",
       "      <td>Anandnagar</td>\n",
       "      <td>1</td>\n",
       "      <td>0</td>\n",
       "      <td>0</td>\n",
       "      <td>0</td>\n",
       "      <td>1440.0</td>\n",
       "    </tr>\n",
       "    <tr>\n",
       "      <th>3</th>\n",
       "      <td>1</td>\n",
       "      <td>3</td>\n",
       "      <td>3.0</td>\n",
       "      <td>1.0</td>\n",
       "      <td>95.00</td>\n",
       "      <td>Aundh</td>\n",
       "      <td>0</td>\n",
       "      <td>0</td>\n",
       "      <td>0</td>\n",
       "      <td>1</td>\n",
       "      <td>1521.0</td>\n",
       "    </tr>\n",
       "    <tr>\n",
       "      <th>4</th>\n",
       "      <td>1</td>\n",
       "      <td>2</td>\n",
       "      <td>2.0</td>\n",
       "      <td>1.0</td>\n",
       "      <td>51.00</td>\n",
       "      <td>Aundh Road</td>\n",
       "      <td>0</td>\n",
       "      <td>0</td>\n",
       "      <td>0</td>\n",
       "      <td>1</td>\n",
       "      <td>1200.0</td>\n",
       "    </tr>\n",
       "    <tr>\n",
       "      <th>...</th>\n",
       "      <td>...</td>\n",
       "      <td>...</td>\n",
       "      <td>...</td>\n",
       "      <td>...</td>\n",
       "      <td>...</td>\n",
       "      <td>...</td>\n",
       "      <td>...</td>\n",
       "      <td>...</td>\n",
       "      <td>...</td>\n",
       "      <td>...</td>\n",
       "      <td>...</td>\n",
       "    </tr>\n",
       "    <tr>\n",
       "      <th>13315</th>\n",
       "      <td>1</td>\n",
       "      <td>5</td>\n",
       "      <td>4.0</td>\n",
       "      <td>0.0</td>\n",
       "      <td>231.00</td>\n",
       "      <td>Pashan</td>\n",
       "      <td>1</td>\n",
       "      <td>0</td>\n",
       "      <td>0</td>\n",
       "      <td>0</td>\n",
       "      <td>3453.0</td>\n",
       "    </tr>\n",
       "    <tr>\n",
       "      <th>13316</th>\n",
       "      <td>1</td>\n",
       "      <td>4</td>\n",
       "      <td>5.0</td>\n",
       "      <td>NaN</td>\n",
       "      <td>400.00</td>\n",
       "      <td>Paud Road</td>\n",
       "      <td>0</td>\n",
       "      <td>0</td>\n",
       "      <td>0</td>\n",
       "      <td>1</td>\n",
       "      <td>3600.0</td>\n",
       "    </tr>\n",
       "    <tr>\n",
       "      <th>13317</th>\n",
       "      <td>1</td>\n",
       "      <td>2</td>\n",
       "      <td>2.0</td>\n",
       "      <td>1.0</td>\n",
       "      <td>60.00</td>\n",
       "      <td>Pirangut</td>\n",
       "      <td>1</td>\n",
       "      <td>0</td>\n",
       "      <td>0</td>\n",
       "      <td>0</td>\n",
       "      <td>1141.0</td>\n",
       "    </tr>\n",
       "    <tr>\n",
       "      <th>13318</th>\n",
       "      <td>0</td>\n",
       "      <td>4</td>\n",
       "      <td>4.0</td>\n",
       "      <td>1.0</td>\n",
       "      <td>488.00</td>\n",
       "      <td>Prabhat Road</td>\n",
       "      <td>0</td>\n",
       "      <td>0</td>\n",
       "      <td>0</td>\n",
       "      <td>1</td>\n",
       "      <td>4689.0</td>\n",
       "    </tr>\n",
       "    <tr>\n",
       "      <th>13319</th>\n",
       "      <td>1</td>\n",
       "      <td>1</td>\n",
       "      <td>1.0</td>\n",
       "      <td>1.0</td>\n",
       "      <td>17.00</td>\n",
       "      <td>Pune Railway Station</td>\n",
       "      <td>0</td>\n",
       "      <td>0</td>\n",
       "      <td>0</td>\n",
       "      <td>1</td>\n",
       "      <td>550.0</td>\n",
       "    </tr>\n",
       "  </tbody>\n",
       "</table>\n",
       "<p>13320 rows × 11 columns</p>\n",
       "</div>"
      ],
      "text/plain": [
       "       availability  size  bath  balcony   price         site_location  \\\n",
       "0                 0     2   2.0      1.0   39.07           Alandi Road   \n",
       "1                 1     4   5.0      3.0  120.00       Ambegaon Budruk   \n",
       "2                 1     3   2.0      3.0   62.00            Anandnagar   \n",
       "3                 1     3   3.0      1.0   95.00                 Aundh   \n",
       "4                 1     2   2.0      1.0   51.00            Aundh Road   \n",
       "...             ...   ...   ...      ...     ...                   ...   \n",
       "13315             1     5   4.0      0.0  231.00                Pashan   \n",
       "13316             1     4   5.0      NaN  400.00             Paud Road   \n",
       "13317             1     2   2.0      1.0   60.00              Pirangut   \n",
       "13318             0     4   4.0      1.0  488.00          Prabhat Road   \n",
       "13319             1     1   1.0      1.0   17.00  Pune Railway Station   \n",
       "\n",
       "       area_type_Built-up  Area  area_type_Carpet  Area  area_type_Plot  Area  \\\n",
       "0                             0                       0                     0   \n",
       "1                             0                       0                     1   \n",
       "2                             1                       0                     0   \n",
       "3                             0                       0                     0   \n",
       "4                             0                       0                     0   \n",
       "...                         ...                     ...                   ...   \n",
       "13315                         1                       0                     0   \n",
       "13316                         0                       0                     0   \n",
       "13317                         1                       0                     0   \n",
       "13318                         0                       0                     0   \n",
       "13319                         0                       0                     0   \n",
       "\n",
       "       area_type_Super built-up  Area  new_total_sqft  \n",
       "0                                   1          1056.0  \n",
       "1                                   0          2600.0  \n",
       "2                                   0          1440.0  \n",
       "3                                   1          1521.0  \n",
       "4                                   1          1200.0  \n",
       "...                               ...             ...  \n",
       "13315                               0          3453.0  \n",
       "13316                               1          3600.0  \n",
       "13317                               0          1141.0  \n",
       "13318                               1          4689.0  \n",
       "13319                               1           550.0  \n",
       "\n",
       "[13320 rows x 11 columns]"
      ]
     },
     "execution_count": 38,
     "metadata": {},
     "output_type": "execute_result"
    }
   ],
   "source": [
    "df['bath'].fillna(df['bath'].median(),inplace=True)\n",
    "df"
   ]
  },
  {
   "cell_type": "code",
   "execution_count": 39,
   "id": "f0ebf7e2",
   "metadata": {},
   "outputs": [
    {
     "data": {
      "text/plain": [
       "0"
      ]
     },
     "execution_count": 39,
     "metadata": {},
     "output_type": "execute_result"
    }
   ],
   "source": [
    "df[\"bath\"].isna().sum()"
   ]
  },
  {
   "cell_type": "code",
   "execution_count": 40,
   "id": "d25dc121",
   "metadata": {},
   "outputs": [
    {
     "data": {
      "text/plain": [
       "array([ 1.,  3., nan,  2.,  0.])"
      ]
     },
     "execution_count": 40,
     "metadata": {},
     "output_type": "execute_result"
    }
   ],
   "source": [
    "df[\"balcony\"].unique()"
   ]
  },
  {
   "cell_type": "code",
   "execution_count": 41,
   "id": "d6ecb5e2",
   "metadata": {},
   "outputs": [
    {
     "data": {
      "text/plain": [
       "2.0    5113\n",
       "1.0    4897\n",
       "3.0    1672\n",
       "0.0    1029\n",
       "Name: balcony, dtype: int64"
      ]
     },
     "execution_count": 41,
     "metadata": {},
     "output_type": "execute_result"
    }
   ],
   "source": [
    "df[\"balcony\"].value_counts()"
   ]
  },
  {
   "cell_type": "code",
   "execution_count": 42,
   "id": "24e5f856",
   "metadata": {},
   "outputs": [
    {
     "data": {
      "text/plain": [
       "609"
      ]
     },
     "execution_count": 42,
     "metadata": {},
     "output_type": "execute_result"
    }
   ],
   "source": [
    "df[\"balcony\"].isna().sum()"
   ]
  },
  {
   "cell_type": "code",
   "execution_count": 43,
   "id": "4cd9ca04",
   "metadata": {},
   "outputs": [
    {
     "data": {
      "text/plain": [
       "<AxesSubplot: >"
      ]
     },
     "execution_count": 43,
     "metadata": {},
     "output_type": "execute_result"
    },
    {
     "data": {
      "image/png": "[encoded data removed]",
      "text/plain": [
       "<Figure size 432x288 with 1 Axes>"
      ]
     },
     "metadata": {
      "needs_background": "light"
     },
     "output_type": "display_data"
    }
   ],
   "source": [
    "sns.boxplot(df['balcony'])"
   ]
  },
  {
   "cell_type": "markdown",
   "id": "0676dc5d",
   "metadata": {},
   "source": [
    "#### There is no outlier,replace nan value with mean."
   ]
  },
  {
   "cell_type": "code",
   "execution_count": 44,
   "id": "e2504a49",
   "metadata": {},
   "outputs": [],
   "source": [
    "df['balcony'].fillna(df['balcony'].mean(),inplace=True)"
   ]
  },
  {
   "cell_type": "code",
   "execution_count": 45,
   "id": "5e9e9642",
   "metadata": {},
   "outputs": [
    {
     "data": {
      "text/plain": [
       "0"
      ]
     },
     "execution_count": 45,
     "metadata": {},
     "output_type": "execute_result"
    }
   ],
   "source": [
    "df[\"balcony\"].isna().sum()"
   ]
  },
  {
   "cell_type": "code",
   "execution_count": 46,
   "id": "2150ef47",
   "metadata": {},
   "outputs": [
    {
     "data": {
      "text/plain": [
       "array(['Alandi Road', 'Ambegaon Budruk', 'Anandnagar', 'Aundh',\n",
       "       'Aundh Road', 'Balaji Nagar', 'Baner', 'Baner road',\n",
       "       'Bhandarkar Road', 'Bhavani Peth', 'Bibvewadi', 'Bopodi',\n",
       "       'Budhwar Peth', 'Bund Garden Road', 'Camp', 'Chandan Nagar',\n",
       "       'Dapodi', 'Deccan Gymkhana', 'Dehu Road', 'Dhankawadi',\n",
       "       'Dhayari Phata', 'Dhole Patil Road', 'Erandwane', 'Fatima Nagar',\n",
       "       'Fergusson College Road', 'Ganesh Peth', 'Ganeshkhind',\n",
       "       'Ghorpade Peth', 'other', 'Gokhale Nagar', 'Gultekdi',\n",
       "       'Guruwar peth', 'Hadapsar', 'Hadapsar Industrial Estate',\n",
       "       'Hingne Khurd', 'Jangali Maharaj Road', 'Kalyani Nagar',\n",
       "       'Karve Nagar', 'Karve Road', 'Kasba Peth', 'Katraj', 'Khadaki',\n",
       "       'Khadki', 'Kharadi', 'Kondhwa', 'Kondhwa Budruk', 'Kondhwa Khurd',\n",
       "       'Koregaon Park', 'Kothrud', 'Law College Road', 'Laxmi Road',\n",
       "       'Lulla Nagar', 'Mahatma Gandhi Road', 'Mangalwar peth',\n",
       "       'Manik Bagh', 'Market yard', 'Model colony', 'Mukund Nagar',\n",
       "       'Mundhawa', 'Nagar Road', 'Nana Peth', 'Narayan Peth',\n",
       "       'Narayangaon', 'Navi Peth', 'Padmavati', 'Parvati Darshan',\n",
       "       'Pashan', 'Paud Road', 'Pirangut', 'Prabhat Road',\n",
       "       'Pune Railway Station', 'Rasta Peth', 'Raviwar Peth',\n",
       "       'Sadashiv Peth', 'Sahakar Nagar', 'Salunke Vihar', 'Sasson Road',\n",
       "       'Satara Road', 'Senapati Bapat Road', 'Shaniwar Peth',\n",
       "       'Shivaji Nagar', 'Shukrawar Peth', 'Sinhagad Road', 'Somwar Peth',\n",
       "       'Swargate', 'Tilak Road', 'Uruli Devachi', 'Vadgaon Budruk',\n",
       "       'Wadgaon Sheri', 'Viman Nagar', 'Vishrant Wadi', 'Wagholi',\n",
       "       'Wakadewadi', 'Wanowrie', 'Warje', 'Yerawada', 'Ghorpadi', nan],\n",
       "      dtype=object)"
      ]
     },
     "execution_count": 46,
     "metadata": {},
     "output_type": "execute_result"
    }
   ],
   "source": [
    "df[\"site_location\"].unique()"
   ]
  },
  {
   "cell_type": "code",
   "execution_count": 47,
   "id": "462bc43c",
   "metadata": {},
   "outputs": [
    {
     "data": {
      "text/plain": [
       "97"
      ]
     },
     "execution_count": 47,
     "metadata": {},
     "output_type": "execute_result"
    }
   ],
   "source": [
    "df[\"site_location\"].nunique()"
   ]
  },
  {
   "cell_type": "code",
   "execution_count": 48,
   "id": "9c2fe478",
   "metadata": {},
   "outputs": [
    {
     "data": {
      "text/plain": [
       "Alandi Road            139\n",
       "Kalyani Nagar          139\n",
       "Mahatma Gandhi Road    139\n",
       "Lulla Nagar            139\n",
       "Laxmi Road             139\n",
       "                      ... \n",
       "Sadashiv Peth          138\n",
       "Raviwar Peth           138\n",
       "Rasta Peth             138\n",
       "Ghorpadi               138\n",
       "other                    1\n",
       "Name: site_location, Length: 97, dtype: int64"
      ]
     },
     "execution_count": 48,
     "metadata": {},
     "output_type": "execute_result"
    }
   ],
   "source": [
    "df[\"site_location\"].value_counts()"
   ]
  },
  {
   "cell_type": "markdown",
   "id": "e5141179",
   "metadata": {},
   "source": [
    "#### As site location matters it is one of the important feature, encoded with the help of label encoding considering priority areawise"
   ]
  },
  {
   "cell_type": "code",
   "execution_count": 49,
   "id": "066fac65",
   "metadata": {},
   "outputs": [],
   "source": [
    "dict_site_location = {'Alandi Road': 1,\n",
    " 'Kalyani Nagar': 2,\n",
    " 'Mahatma Gandhi Road': 3,\n",
    " 'Lulla Nagar': 4,\n",
    " 'Laxmi Road': 5,\n",
    " 'Law College Road': 6,\n",
    " 'Ambegaon Budruk': 7,\n",
    " 'Koregaon Park': 8,\n",
    " 'Kondhwa Khurd': 9,\n",
    " 'Kondhwa Budruk': 10,\n",
    " 'Kondhwa': 11,\n",
    " 'Kharadi': 12,\n",
    " 'Khadki': 13,\n",
    " 'Khadaki': 14,\n",
    " 'Katraj': 15,\n",
    " 'Kasba Peth': 16,\n",
    " 'Karve Road': 17,\n",
    " 'Mangalwar peth': 18,\n",
    " 'Manik Bagh': 19,\n",
    " 'Market yard': 20,\n",
    " 'Padmavati': 21,\n",
    " 'Pune Railway Station': 22,\n",
    " 'Prabhat Road': 23,\n",
    " 'Pirangut': 24,\n",
    " 'Paud Road': 25,\n",
    " 'Pashan': 26,\n",
    " 'Parvati Darshan': 27,\n",
    " 'Navi Peth': 28,\n",
    " 'Model colony': 29,\n",
    " 'Narayangaon': 30,\n",
    " 'Narayan Peth': 31,\n",
    " 'Nana Peth': 32,\n",
    " 'Nagar Road': 33,\n",
    " 'Mundhawa': 34,\n",
    " 'Mukund Nagar': 35,\n",
    " 'Karve Nagar': 36,\n",
    " 'Kothrud': 37,\n",
    " 'Jangali Maharaj Road': 38,\n",
    " 'Bhavani Peth': 40,\n",
    " 'Chandan Nagar': 39,\n",
    " 'Camp': 41,\n",
    " 'Bund Garden Road': 42,\n",
    " 'Budhwar Peth': 43,\n",
    " 'Bopodi': 44,\n",
    " 'Bibvewadi': 45,\n",
    " 'Bhandarkar Road': 46,\n",
    " 'Deccan Gymkhana': 47,\n",
    " 'Baner road': 48,\n",
    " 'Baner': 49,\n",
    " 'Hingne Khurd': 50,\n",
    " 'Aundh Road': 51,\n",
    " 'Aundh': 52,\n",
    " 'Anandnagar': 53,\n",
    " 'Dapodi': 54,\n",
    " 'Balaji Nagar': 55,\n",
    " 'Dehu Road': 56,\n",
    " 'Ganeshkhind': 57,\n",
    " 'Dhankawadi': 58,\n",
    " 'Hadapsar Industrial Estate': 59,\n",
    " 'Guruwar peth': 60,\n",
    " 'Gultekdi': 61,\n",
    " 'Gokhale Nagar': 62,\n",
    " 'Ghorpade Peth': 63,\n",
    " 'Hadapsar': 64,\n",
    " 'Ganesh Peth': 65,\n",
    " 'Dhayari Phata': 66,\n",
    " 'Fergusson College Road': 67,\n",
    " 'Fatima Nagar': 68,\n",
    " 'Erandwane': 69,\n",
    " 'Dhole Patil Road': 70,\n",
    " 'Tilak Road': 71,\n",
    " 'Uruli Devachi': 72,\n",
    " 'Vadgaon Budruk': 73,\n",
    " 'Wadgaon Sheri': 74,\n",
    " 'Viman Nagar': 75,\n",
    " 'Wakadewadi': 76,\n",
    " 'Vishrant Wadi': 77,\n",
    " 'Wagholi': 78,\n",
    " 'Yerawada': 79,\n",
    " 'Wanowrie': 80,\n",
    " 'Warje': 81,\n",
    " 'Somwar Peth': 82,\n",
    " 'Swargate': 83,\n",
    " 'Sasson Road': 84,\n",
    " 'Sinhagad Road': 85,\n",
    " 'Shukrawar Peth': 86,\n",
    " 'Shivaji Nagar': 87,\n",
    " 'Shaniwar Peth': 88,\n",
    " 'Senapati Bapat Road': 89,\n",
    " 'Satara Road': 90,\n",
    " 'Salunke Vihar': 91,\n",
    " 'Sahakar Nagar': 92,\n",
    " 'Sadashiv Peth': 93,\n",
    " 'Raviwar Peth': 94,\n",
    " 'Rasta Peth': 95,\n",
    " 'Ghorpadi': 96,\n",
    " 'other': 97}\n",
    "df['site_location'].replace(dict_site_location, inplace=True)"
   ]
  },
  {
   "cell_type": "code",
   "execution_count": 50,
   "id": "98a486fb",
   "metadata": {},
   "outputs": [],
   "source": [
    "df['site_location'].fillna(1,inplace=True) # null value filled with mode"
   ]
  },
  {
   "cell_type": "code",
   "execution_count": 51,
   "id": "78446d63",
   "metadata": {},
   "outputs": [
    {
     "data": {
      "text/plain": [
       "0         1.0\n",
       "1         7.0\n",
       "2        53.0\n",
       "3        52.0\n",
       "4        51.0\n",
       "         ... \n",
       "13315    26.0\n",
       "13316    25.0\n",
       "13317    24.0\n",
       "13318    23.0\n",
       "13319    22.0\n",
       "Name: site_location, Length: 13320, dtype: float64"
      ]
     },
     "execution_count": 51,
     "metadata": {},
     "output_type": "execute_result"
    }
   ],
   "source": [
    "df['site_location']"
   ]
  },
  {
   "cell_type": "code",
   "execution_count": 52,
   "id": "5cfc001e",
   "metadata": {},
   "outputs": [
    {
     "name": "stdout",
     "output_type": "stream",
     "text": [
      "<class 'pandas.core.frame.DataFrame'>\n",
      "RangeIndex: 13320 entries, 0 to 13319\n",
      "Data columns (total 11 columns):\n",
      " #   Column                          Non-Null Count  Dtype  \n",
      "---  ------                          --------------  -----  \n",
      " 0   availability                    13320 non-null  int64  \n",
      " 1   size                            13320 non-null  int64  \n",
      " 2   bath                            13320 non-null  float64\n",
      " 3   balcony                         13320 non-null  float64\n",
      " 4   price                           13320 non-null  float64\n",
      " 5   site_location                   13320 non-null  float64\n",
      " 6   area_type_Built-up  Area        13320 non-null  uint8  \n",
      " 7   area_type_Carpet  Area          13320 non-null  uint8  \n",
      " 8   area_type_Plot  Area            13320 non-null  uint8  \n",
      " 9   area_type_Super built-up  Area  13320 non-null  uint8  \n",
      " 10  new_total_sqft                  13320 non-null  float64\n",
      "dtypes: float64(5), int64(2), uint8(4)\n",
      "memory usage: 780.6 KB\n"
     ]
    }
   ],
   "source": [
    "df.info()"
   ]
  },
  {
   "cell_type": "markdown",
   "id": "2e6cc98c",
   "metadata": {},
   "source": [
    "### 1. Checking of Linearity"
   ]
  },
  {
   "cell_type": "code",
   "execution_count": 54,
   "id": "bea189cb",
   "metadata": {},
   "outputs": [
    {
     "data": {
      "text/html": [
       "<div>\n",
       "<style scoped>\n",
       "    .dataframe tbody tr th:only-of-type {\n",
       "        vertical-align: middle;\n",
       "    }\n",
       "\n",
       "    .dataframe tbody tr th {\n",
       "        vertical-align: top;\n",
       "    }\n",
       "\n",
       "    .dataframe thead th {\n",
       "        text-align: right;\n",
       "    }\n",
       "</style>\n",
       "<table border=\"1\" class=\"dataframe\">\n",
       "  <thead>\n",
       "    <tr style=\"text-align: right;\">\n",
       "      <th></th>\n",
       "      <th>availability</th>\n",
       "      <th>size</th>\n",
       "      <th>bath</th>\n",
       "      <th>balcony</th>\n",
       "      <th>price</th>\n",
       "      <th>site_location</th>\n",
       "      <th>area_type_Built-up  Area</th>\n",
       "      <th>area_type_Carpet  Area</th>\n",
       "      <th>area_type_Plot  Area</th>\n",
       "      <th>area_type_Super built-up  Area</th>\n",
       "      <th>new_total_sqft</th>\n",
       "    </tr>\n",
       "  </thead>\n",
       "  <tbody>\n",
       "    <tr>\n",
       "      <th>availability</th>\n",
       "      <td>1.000000</td>\n",
       "      <td>0.098651</td>\n",
       "      <td>0.074625</td>\n",
       "      <td>0.112083</td>\n",
       "      <td>0.034285</td>\n",
       "      <td>0.000865</td>\n",
       "      <td>0.106883</td>\n",
       "      <td>-0.012051</td>\n",
       "      <td>0.101088</td>\n",
       "      <td>-0.161531</td>\n",
       "      <td>0.021638</td>\n",
       "    </tr>\n",
       "    <tr>\n",
       "      <th>size</th>\n",
       "      <td>0.098651</td>\n",
       "      <td>1.000000</td>\n",
       "      <td>0.895786</td>\n",
       "      <td>0.170318</td>\n",
       "      <td>0.398074</td>\n",
       "      <td>-0.004305</td>\n",
       "      <td>-0.004080</td>\n",
       "      <td>-0.008526</td>\n",
       "      <td>0.405992</td>\n",
       "      <td>-0.302932</td>\n",
       "      <td>0.345857</td>\n",
       "    </tr>\n",
       "    <tr>\n",
       "      <th>bath</th>\n",
       "      <td>0.074625</td>\n",
       "      <td>0.895786</td>\n",
       "      <td>1.000000</td>\n",
       "      <td>0.182671</td>\n",
       "      <td>0.454449</td>\n",
       "      <td>-0.008930</td>\n",
       "      <td>-0.014629</td>\n",
       "      <td>-0.011088</td>\n",
       "      <td>0.376291</td>\n",
       "      <td>-0.271403</td>\n",
       "      <td>0.387513</td>\n",
       "    </tr>\n",
       "    <tr>\n",
       "      <th>balcony</th>\n",
       "      <td>0.112083</td>\n",
       "      <td>0.170318</td>\n",
       "      <td>0.182671</td>\n",
       "      <td>1.000000</td>\n",
       "      <td>0.103989</td>\n",
       "      <td>-0.002052</td>\n",
       "      <td>-0.062922</td>\n",
       "      <td>-0.017417</td>\n",
       "      <td>-0.092325</td>\n",
       "      <td>0.124131</td>\n",
       "      <td>0.136250</td>\n",
       "    </tr>\n",
       "    <tr>\n",
       "      <th>price</th>\n",
       "      <td>0.034285</td>\n",
       "      <td>0.398074</td>\n",
       "      <td>0.454449</td>\n",
       "      <td>0.103989</td>\n",
       "      <td>1.000000</td>\n",
       "      <td>-0.012968</td>\n",
       "      <td>-0.026177</td>\n",
       "      <td>-0.012553</td>\n",
       "      <td>0.272669</td>\n",
       "      <td>-0.183222</td>\n",
       "      <td>0.574721</td>\n",
       "    </tr>\n",
       "    <tr>\n",
       "      <th>site_location</th>\n",
       "      <td>0.000865</td>\n",
       "      <td>-0.004305</td>\n",
       "      <td>-0.008930</td>\n",
       "      <td>-0.002052</td>\n",
       "      <td>-0.012968</td>\n",
       "      <td>1.000000</td>\n",
       "      <td>0.004557</td>\n",
       "      <td>-0.020377</td>\n",
       "      <td>-0.012761</td>\n",
       "      <td>0.009428</td>\n",
       "      <td>0.002460</td>\n",
       "    </tr>\n",
       "    <tr>\n",
       "      <th>area_type_Built-up  Area</th>\n",
       "      <td>0.106883</td>\n",
       "      <td>-0.004080</td>\n",
       "      <td>-0.014629</td>\n",
       "      <td>-0.062922</td>\n",
       "      <td>-0.026177</td>\n",
       "      <td>0.004557</td>\n",
       "      <td>1.000000</td>\n",
       "      <td>-0.038186</td>\n",
       "      <td>-0.199409</td>\n",
       "      <td>-0.656025</td>\n",
       "      <td>0.022008</td>\n",
       "    </tr>\n",
       "    <tr>\n",
       "      <th>area_type_Carpet  Area</th>\n",
       "      <td>-0.012051</td>\n",
       "      <td>-0.008526</td>\n",
       "      <td>-0.011088</td>\n",
       "      <td>-0.017417</td>\n",
       "      <td>-0.012553</td>\n",
       "      <td>-0.020377</td>\n",
       "      <td>-0.038186</td>\n",
       "      <td>1.000000</td>\n",
       "      <td>-0.034332</td>\n",
       "      <td>-0.112947</td>\n",
       "      <td>-0.016652</td>\n",
       "    </tr>\n",
       "    <tr>\n",
       "      <th>area_type_Plot  Area</th>\n",
       "      <td>0.101088</td>\n",
       "      <td>0.405992</td>\n",
       "      <td>0.376291</td>\n",
       "      <td>-0.092325</td>\n",
       "      <td>0.272669</td>\n",
       "      <td>-0.012761</td>\n",
       "      <td>-0.199409</td>\n",
       "      <td>-0.034332</td>\n",
       "      <td>1.000000</td>\n",
       "      <td>-0.589814</td>\n",
       "      <td>0.095034</td>\n",
       "    </tr>\n",
       "    <tr>\n",
       "      <th>area_type_Super built-up  Area</th>\n",
       "      <td>-0.161531</td>\n",
       "      <td>-0.302932</td>\n",
       "      <td>-0.271403</td>\n",
       "      <td>0.124131</td>\n",
       "      <td>-0.183222</td>\n",
       "      <td>0.009428</td>\n",
       "      <td>-0.656025</td>\n",
       "      <td>-0.112947</td>\n",
       "      <td>-0.589814</td>\n",
       "      <td>1.000000</td>\n",
       "      <td>-0.087102</td>\n",
       "    </tr>\n",
       "    <tr>\n",
       "      <th>new_total_sqft</th>\n",
       "      <td>0.021638</td>\n",
       "      <td>0.345857</td>\n",
       "      <td>0.387513</td>\n",
       "      <td>0.136250</td>\n",
       "      <td>0.574721</td>\n",
       "      <td>0.002460</td>\n",
       "      <td>0.022008</td>\n",
       "      <td>-0.016652</td>\n",
       "      <td>0.095034</td>\n",
       "      <td>-0.087102</td>\n",
       "      <td>1.000000</td>\n",
       "    </tr>\n",
       "  </tbody>\n",
       "</table>\n",
       "</div>"
      ],
      "text/plain": [
       "                                availability      size      bath   balcony  \\\n",
       "availability                        1.000000  0.098651  0.074625  0.112083   \n",
       "size                                0.098651  1.000000  0.895786  0.170318   \n",
       "bath                                0.074625  0.895786  1.000000  0.182671   \n",
       "balcony                             0.112083  0.170318  0.182671  1.000000   \n",
       "price                               0.034285  0.398074  0.454449  0.103989   \n",
       "site_location                       0.000865 -0.004305 -0.008930 -0.002052   \n",
       "area_type_Built-up  Area            0.106883 -0.004080 -0.014629 -0.062922   \n",
       "area_type_Carpet  Area             -0.012051 -0.008526 -0.011088 -0.017417   \n",
       "area_type_Plot  Area                0.101088  0.405992  0.376291 -0.092325   \n",
       "area_type_Super built-up  Area     -0.161531 -0.302932 -0.271403  0.124131   \n",
       "new_total_sqft                      0.021638  0.345857  0.387513  0.136250   \n",
       "\n",
       "                                   price  site_location  \\\n",
       "availability                    0.034285       0.000865   \n",
       "size                            0.398074      -0.004305   \n",
       "bath                            0.454449      -0.008930   \n",
       "balcony                         0.103989      -0.002052   \n",
       "price                           1.000000      -0.012968   \n",
       "site_location                  -0.012968       1.000000   \n",
       "area_type_Built-up  Area       -0.026177       0.004557   \n",
       "area_type_Carpet  Area         -0.012553      -0.020377   \n",
       "area_type_Plot  Area            0.272669      -0.012761   \n",
       "area_type_Super built-up  Area -0.183222       0.009428   \n",
       "new_total_sqft                  0.574721       0.002460   \n",
       "\n",
       "                                area_type_Built-up  Area  \\\n",
       "availability                                    0.106883   \n",
       "size                                           -0.004080   \n",
       "bath                                           -0.014629   \n",
       "balcony                                        -0.062922   \n",
       "price                                          -0.026177   \n",
       "site_location                                   0.004557   \n",
       "area_type_Built-up  Area                        1.000000   \n",
       "area_type_Carpet  Area                         -0.038186   \n",
       "area_type_Plot  Area                           -0.199409   \n",
       "area_type_Super built-up  Area                 -0.656025   \n",
       "new_total_sqft                                  0.022008   \n",
       "\n",
       "                                area_type_Carpet  Area  area_type_Plot  Area  \\\n",
       "availability                                 -0.012051              0.101088   \n",
       "size                                         -0.008526              0.405992   \n",
       "bath                                         -0.011088              0.376291   \n",
       "balcony                                      -0.017417             -0.092325   \n",
       "price                                        -0.012553              0.272669   \n",
       "site_location                                -0.020377             -0.012761   \n",
       "area_type_Built-up  Area                     -0.038186             -0.199409   \n",
       "area_type_Carpet  Area                        1.000000             -0.034332   \n",
       "area_type_Plot  Area                         -0.034332              1.000000   \n",
       "area_type_Super built-up  Area               -0.112947             -0.589814   \n",
       "new_total_sqft                               -0.016652              0.095034   \n",
       "\n",
       "                                area_type_Super built-up  Area  new_total_sqft  \n",
       "availability                                         -0.161531        0.021638  \n",
       "size                                                 -0.302932        0.345857  \n",
       "bath                                                 -0.271403        0.387513  \n",
       "balcony                                               0.124131        0.136250  \n",
       "price                                                -0.183222        0.574721  \n",
       "site_location                                         0.009428        0.002460  \n",
       "area_type_Built-up  Area                             -0.656025        0.022008  \n",
       "area_type_Carpet  Area                               -0.112947       -0.016652  \n",
       "area_type_Plot  Area                                 -0.589814        0.095034  \n",
       "area_type_Super built-up  Area                        1.000000       -0.087102  \n",
       "new_total_sqft                                       -0.087102        1.000000  "
      ]
     },
     "execution_count": 54,
     "metadata": {},
     "output_type": "execute_result"
    }
   ],
   "source": [
    "df.corr()"
   ]
  },
  {
   "cell_type": "code",
   "execution_count": 55,
   "id": "f7d3796a",
   "metadata": {},
   "outputs": [
    {
     "data": {
      "text/plain": [
       "<AxesSubplot: >"
      ]
     },
     "execution_count": 55,
     "metadata": {},
     "output_type": "execute_result"
    },
    {
     "data": {
      "image/png": "[encoded data removed]",
      "text/plain": [
       "<Figure size 1080x1080 with 2 Axes>"
      ]
     },
     "metadata": {
      "needs_background": "light"
     },
     "output_type": "display_data"
    }
   ],
   "source": [
    "import matplotlib.pyplot as plt\n",
    "import seaborn as sns\n",
    "plt.figure(figsize=(15,15))\n",
    "sns.heatmap(df.corr(),annot=True)"
   ]
  },
  {
   "cell_type": "markdown",
   "id": "ceca9a67",
   "metadata": {},
   "source": [
    "### 2. Checking of Multicollinearity"
   ]
  },
  {
   "cell_type": "code",
   "execution_count": 56,
   "id": "baa82153",
   "metadata": {},
   "outputs": [],
   "source": [
    "from statsmodels.stats.outliers_influence import variance_inflation_factor"
   ]
  },
  {
   "cell_type": "markdown",
   "id": "b7c39aa7",
   "metadata": {},
   "source": [
    "##### Dropping target column as collinearity is checked for independant variables only"
   ]
  },
  {
   "cell_type": "code",
   "execution_count": 57,
   "id": "9b15e825",
   "metadata": {},
   "outputs": [
    {
     "data": {
      "text/html": [
       "<div>\n",
       "<style scoped>\n",
       "    .dataframe tbody tr th:only-of-type {\n",
       "        vertical-align: middle;\n",
       "    }\n",
       "\n",
       "    .dataframe tbody tr th {\n",
       "        vertical-align: top;\n",
       "    }\n",
       "\n",
       "    .dataframe thead th {\n",
       "        text-align: right;\n",
       "    }\n",
       "</style>\n",
       "<table border=\"1\" class=\"dataframe\">\n",
       "  <thead>\n",
       "    <tr style=\"text-align: right;\">\n",
       "      <th></th>\n",
       "      <th>availability</th>\n",
       "      <th>size</th>\n",
       "      <th>bath</th>\n",
       "      <th>balcony</th>\n",
       "      <th>site_location</th>\n",
       "      <th>area_type_Built-up  Area</th>\n",
       "      <th>area_type_Carpet  Area</th>\n",
       "      <th>area_type_Plot  Area</th>\n",
       "      <th>area_type_Super built-up  Area</th>\n",
       "      <th>new_total_sqft</th>\n",
       "    </tr>\n",
       "  </thead>\n",
       "  <tbody>\n",
       "    <tr>\n",
       "      <th>0</th>\n",
       "      <td>0</td>\n",
       "      <td>2</td>\n",
       "      <td>2.0</td>\n",
       "      <td>1.000000</td>\n",
       "      <td>1.0</td>\n",
       "      <td>0</td>\n",
       "      <td>0</td>\n",
       "      <td>0</td>\n",
       "      <td>1</td>\n",
       "      <td>1056.0</td>\n",
       "    </tr>\n",
       "    <tr>\n",
       "      <th>1</th>\n",
       "      <td>1</td>\n",
       "      <td>4</td>\n",
       "      <td>5.0</td>\n",
       "      <td>3.000000</td>\n",
       "      <td>7.0</td>\n",
       "      <td>0</td>\n",
       "      <td>0</td>\n",
       "      <td>1</td>\n",
       "      <td>0</td>\n",
       "      <td>2600.0</td>\n",
       "    </tr>\n",
       "    <tr>\n",
       "      <th>2</th>\n",
       "      <td>1</td>\n",
       "      <td>3</td>\n",
       "      <td>2.0</td>\n",
       "      <td>3.000000</td>\n",
       "      <td>53.0</td>\n",
       "      <td>1</td>\n",
       "      <td>0</td>\n",
       "      <td>0</td>\n",
       "      <td>0</td>\n",
       "      <td>1440.0</td>\n",
       "    </tr>\n",
       "    <tr>\n",
       "      <th>3</th>\n",
       "      <td>1</td>\n",
       "      <td>3</td>\n",
       "      <td>3.0</td>\n",
       "      <td>1.000000</td>\n",
       "      <td>52.0</td>\n",
       "      <td>0</td>\n",
       "      <td>0</td>\n",
       "      <td>0</td>\n",
       "      <td>1</td>\n",
       "      <td>1521.0</td>\n",
       "    </tr>\n",
       "    <tr>\n",
       "      <th>4</th>\n",
       "      <td>1</td>\n",
       "      <td>2</td>\n",
       "      <td>2.0</td>\n",
       "      <td>1.000000</td>\n",
       "      <td>51.0</td>\n",
       "      <td>0</td>\n",
       "      <td>0</td>\n",
       "      <td>0</td>\n",
       "      <td>1</td>\n",
       "      <td>1200.0</td>\n",
       "    </tr>\n",
       "    <tr>\n",
       "      <th>...</th>\n",
       "      <td>...</td>\n",
       "      <td>...</td>\n",
       "      <td>...</td>\n",
       "      <td>...</td>\n",
       "      <td>...</td>\n",
       "      <td>...</td>\n",
       "      <td>...</td>\n",
       "      <td>...</td>\n",
       "      <td>...</td>\n",
       "      <td>...</td>\n",
       "    </tr>\n",
       "    <tr>\n",
       "      <th>13315</th>\n",
       "      <td>1</td>\n",
       "      <td>5</td>\n",
       "      <td>4.0</td>\n",
       "      <td>0.000000</td>\n",
       "      <td>26.0</td>\n",
       "      <td>1</td>\n",
       "      <td>0</td>\n",
       "      <td>0</td>\n",
       "      <td>0</td>\n",
       "      <td>3453.0</td>\n",
       "    </tr>\n",
       "    <tr>\n",
       "      <th>13316</th>\n",
       "      <td>1</td>\n",
       "      <td>4</td>\n",
       "      <td>5.0</td>\n",
       "      <td>1.584376</td>\n",
       "      <td>25.0</td>\n",
       "      <td>0</td>\n",
       "      <td>0</td>\n",
       "      <td>0</td>\n",
       "      <td>1</td>\n",
       "      <td>3600.0</td>\n",
       "    </tr>\n",
       "    <tr>\n",
       "      <th>13317</th>\n",
       "      <td>1</td>\n",
       "      <td>2</td>\n",
       "      <td>2.0</td>\n",
       "      <td>1.000000</td>\n",
       "      <td>24.0</td>\n",
       "      <td>1</td>\n",
       "      <td>0</td>\n",
       "      <td>0</td>\n",
       "      <td>0</td>\n",
       "      <td>1141.0</td>\n",
       "    </tr>\n",
       "    <tr>\n",
       "      <th>13318</th>\n",
       "      <td>0</td>\n",
       "      <td>4</td>\n",
       "      <td>4.0</td>\n",
       "      <td>1.000000</td>\n",
       "      <td>23.0</td>\n",
       "      <td>0</td>\n",
       "      <td>0</td>\n",
       "      <td>0</td>\n",
       "      <td>1</td>\n",
       "      <td>4689.0</td>\n",
       "    </tr>\n",
       "    <tr>\n",
       "      <th>13319</th>\n",
       "      <td>1</td>\n",
       "      <td>1</td>\n",
       "      <td>1.0</td>\n",
       "      <td>1.000000</td>\n",
       "      <td>22.0</td>\n",
       "      <td>0</td>\n",
       "      <td>0</td>\n",
       "      <td>0</td>\n",
       "      <td>1</td>\n",
       "      <td>550.0</td>\n",
       "    </tr>\n",
       "  </tbody>\n",
       "</table>\n",
       "<p>13320 rows × 10 columns</p>\n",
       "</div>"
      ],
      "text/plain": [
       "       availability  size  bath   balcony  site_location  \\\n",
       "0                 0     2   2.0  1.000000            1.0   \n",
       "1                 1     4   5.0  3.000000            7.0   \n",
       "2                 1     3   2.0  3.000000           53.0   \n",
       "3                 1     3   3.0  1.000000           52.0   \n",
       "4                 1     2   2.0  1.000000           51.0   \n",
       "...             ...   ...   ...       ...            ...   \n",
       "13315             1     5   4.0  0.000000           26.0   \n",
       "13316             1     4   5.0  1.584376           25.0   \n",
       "13317             1     2   2.0  1.000000           24.0   \n",
       "13318             0     4   4.0  1.000000           23.0   \n",
       "13319             1     1   1.0  1.000000           22.0   \n",
       "\n",
       "       area_type_Built-up  Area  area_type_Carpet  Area  area_type_Plot  Area  \\\n",
       "0                             0                       0                     0   \n",
       "1                             0                       0                     1   \n",
       "2                             1                       0                     0   \n",
       "3                             0                       0                     0   \n",
       "4                             0                       0                     0   \n",
       "...                         ...                     ...                   ...   \n",
       "13315                         1                       0                     0   \n",
       "13316                         0                       0                     0   \n",
       "13317                         1                       0                     0   \n",
       "13318                         0                       0                     0   \n",
       "13319                         0                       0                     0   \n",
       "\n",
       "       area_type_Super built-up  Area  new_total_sqft  \n",
       "0                                   1          1056.0  \n",
       "1                                   0          2600.0  \n",
       "2                                   0          1440.0  \n",
       "3                                   1          1521.0  \n",
       "4                                   1          1200.0  \n",
       "...                               ...             ...  \n",
       "13315                               0          3453.0  \n",
       "13316                               1          3600.0  \n",
       "13317                               0          1141.0  \n",
       "13318                               1          4689.0  \n",
       "13319                               1           550.0  \n",
       "\n",
       "[13320 rows x 10 columns]"
      ]
     },
     "execution_count": 57,
     "metadata": {},
     "output_type": "execute_result"
    }
   ],
   "source": [
    "x=df.drop(\"price\",axis=1)\n",
    "x"
   ]
  },
  {
   "cell_type": "code",
   "execution_count": 58,
   "id": "cb2c0dcd",
   "metadata": {},
   "outputs": [
    {
     "data": {
      "text/plain": [
       "0         39.07\n",
       "1        120.00\n",
       "2         62.00\n",
       "3         95.00\n",
       "4         51.00\n",
       "          ...  \n",
       "13315    231.00\n",
       "13316    400.00\n",
       "13317     60.00\n",
       "13318    488.00\n",
       "13319     17.00\n",
       "Name: price, Length: 13320, dtype: float64"
      ]
     },
     "execution_count": 58,
     "metadata": {},
     "output_type": "execute_result"
    }
   ],
   "source": [
    "y=df[\"price\"]\n",
    "y"
   ]
  },
  {
   "cell_type": "code",
   "execution_count": 59,
   "id": "d0759b3a",
   "metadata": {},
   "outputs": [
    {
     "data": {
      "text/plain": [
       "<AxesSubplot: >"
      ]
     },
     "execution_count": 59,
     "metadata": {},
     "output_type": "execute_result"
    },
    {
     "data": {
      "image/png": "[encoded data removed]",
      "text/plain": [
       "<Figure size 432x288 with 1 Axes>"
      ]
     },
     "metadata": {
      "needs_background": "light"
     },
     "output_type": "display_data"
    }
   ],
   "source": [
    "vif_list = []\n",
    "\n",
    "for i in range(x.shape[1]):\n",
    "    vif = variance_inflation_factor(x.to_numpy(),i)\n",
    "    vif_list.append(vif)\n",
    "    \n",
    "s1 = pd.Series(vif_list, index=x.columns)\n",
    "s1.sort_values().plot(kind = 'barh') # sort function to get graph properly in order (bar for vertical"
   ]
  },
  {
   "cell_type": "markdown",
   "id": "c238e8e3",
   "metadata": {},
   "source": [
    "### 4. Model Training"
   ]
  },
  {
   "cell_type": "code",
   "execution_count": 61,
   "id": "c16b49aa",
   "metadata": {},
   "outputs": [],
   "source": [
    "from sklearn.model_selection import train_test_split\n",
    "from sklearn.linear_model import LinearRegression"
   ]
  },
  {
   "cell_type": "code",
   "execution_count": 62,
   "id": "a8a254e6",
   "metadata": {},
   "outputs": [
    {
     "data": {
      "text/html": [
       "<div>\n",
       "<style scoped>\n",
       "    .dataframe tbody tr th:only-of-type {\n",
       "        vertical-align: middle;\n",
       "    }\n",
       "\n",
       "    .dataframe tbody tr th {\n",
       "        vertical-align: top;\n",
       "    }\n",
       "\n",
       "    .dataframe thead th {\n",
       "        text-align: right;\n",
       "    }\n",
       "</style>\n",
       "<table border=\"1\" class=\"dataframe\">\n",
       "  <thead>\n",
       "    <tr style=\"text-align: right;\">\n",
       "      <th></th>\n",
       "      <th>availability</th>\n",
       "      <th>size</th>\n",
       "      <th>bath</th>\n",
       "      <th>balcony</th>\n",
       "      <th>site_location</th>\n",
       "      <th>area_type_Built-up  Area</th>\n",
       "      <th>area_type_Carpet  Area</th>\n",
       "      <th>area_type_Plot  Area</th>\n",
       "      <th>area_type_Super built-up  Area</th>\n",
       "      <th>new_total_sqft</th>\n",
       "    </tr>\n",
       "  </thead>\n",
       "  <tbody>\n",
       "    <tr>\n",
       "      <th>3844</th>\n",
       "      <td>0</td>\n",
       "      <td>2</td>\n",
       "      <td>2.0</td>\n",
       "      <td>2.0</td>\n",
       "      <td>52.0</td>\n",
       "      <td>0</td>\n",
       "      <td>0</td>\n",
       "      <td>0</td>\n",
       "      <td>1</td>\n",
       "      <td>1299.0</td>\n",
       "    </tr>\n",
       "    <tr>\n",
       "      <th>4738</th>\n",
       "      <td>1</td>\n",
       "      <td>6</td>\n",
       "      <td>6.0</td>\n",
       "      <td>3.0</td>\n",
       "      <td>59.0</td>\n",
       "      <td>0</td>\n",
       "      <td>0</td>\n",
       "      <td>1</td>\n",
       "      <td>0</td>\n",
       "      <td>1850.0</td>\n",
       "    </tr>\n",
       "    <tr>\n",
       "      <th>9497</th>\n",
       "      <td>1</td>\n",
       "      <td>4</td>\n",
       "      <td>3.0</td>\n",
       "      <td>1.0</td>\n",
       "      <td>74.0</td>\n",
       "      <td>1</td>\n",
       "      <td>0</td>\n",
       "      <td>0</td>\n",
       "      <td>0</td>\n",
       "      <td>1900.0</td>\n",
       "    </tr>\n",
       "    <tr>\n",
       "      <th>1308</th>\n",
       "      <td>0</td>\n",
       "      <td>2</td>\n",
       "      <td>2.0</td>\n",
       "      <td>1.0</td>\n",
       "      <td>32.0</td>\n",
       "      <td>0</td>\n",
       "      <td>0</td>\n",
       "      <td>0</td>\n",
       "      <td>1</td>\n",
       "      <td>1100.0</td>\n",
       "    </tr>\n",
       "    <tr>\n",
       "      <th>12098</th>\n",
       "      <td>1</td>\n",
       "      <td>2</td>\n",
       "      <td>2.0</td>\n",
       "      <td>3.0</td>\n",
       "      <td>7.0</td>\n",
       "      <td>0</td>\n",
       "      <td>0</td>\n",
       "      <td>0</td>\n",
       "      <td>1</td>\n",
       "      <td>1315.0</td>\n",
       "    </tr>\n",
       "    <tr>\n",
       "      <th>...</th>\n",
       "      <td>...</td>\n",
       "      <td>...</td>\n",
       "      <td>...</td>\n",
       "      <td>...</td>\n",
       "      <td>...</td>\n",
       "      <td>...</td>\n",
       "      <td>...</td>\n",
       "      <td>...</td>\n",
       "      <td>...</td>\n",
       "      <td>...</td>\n",
       "    </tr>\n",
       "    <tr>\n",
       "      <th>10955</th>\n",
       "      <td>1</td>\n",
       "      <td>1</td>\n",
       "      <td>1.0</td>\n",
       "      <td>1.0</td>\n",
       "      <td>45.0</td>\n",
       "      <td>1</td>\n",
       "      <td>0</td>\n",
       "      <td>0</td>\n",
       "      <td>0</td>\n",
       "      <td>600.0</td>\n",
       "    </tr>\n",
       "    <tr>\n",
       "      <th>905</th>\n",
       "      <td>0</td>\n",
       "      <td>1</td>\n",
       "      <td>1.0</td>\n",
       "      <td>1.0</td>\n",
       "      <td>14.0</td>\n",
       "      <td>0</td>\n",
       "      <td>0</td>\n",
       "      <td>0</td>\n",
       "      <td>1</td>\n",
       "      <td>525.0</td>\n",
       "    </tr>\n",
       "    <tr>\n",
       "      <th>5192</th>\n",
       "      <td>1</td>\n",
       "      <td>2</td>\n",
       "      <td>2.0</td>\n",
       "      <td>1.0</td>\n",
       "      <td>48.0</td>\n",
       "      <td>0</td>\n",
       "      <td>0</td>\n",
       "      <td>0</td>\n",
       "      <td>1</td>\n",
       "      <td>1246.0</td>\n",
       "    </tr>\n",
       "    <tr>\n",
       "      <th>12172</th>\n",
       "      <td>1</td>\n",
       "      <td>1</td>\n",
       "      <td>1.0</td>\n",
       "      <td>1.0</td>\n",
       "      <td>91.0</td>\n",
       "      <td>0</td>\n",
       "      <td>0</td>\n",
       "      <td>0</td>\n",
       "      <td>1</td>\n",
       "      <td>720.0</td>\n",
       "    </tr>\n",
       "    <tr>\n",
       "      <th>235</th>\n",
       "      <td>1</td>\n",
       "      <td>3</td>\n",
       "      <td>2.0</td>\n",
       "      <td>1.0</td>\n",
       "      <td>12.0</td>\n",
       "      <td>0</td>\n",
       "      <td>0</td>\n",
       "      <td>0</td>\n",
       "      <td>1</td>\n",
       "      <td>1500.0</td>\n",
       "    </tr>\n",
       "  </tbody>\n",
       "</table>\n",
       "<p>10656 rows × 10 columns</p>\n",
       "</div>"
      ],
      "text/plain": [
       "       availability  size  bath  balcony  site_location  \\\n",
       "3844              0     2   2.0      2.0           52.0   \n",
       "4738              1     6   6.0      3.0           59.0   \n",
       "9497              1     4   3.0      1.0           74.0   \n",
       "1308              0     2   2.0      1.0           32.0   \n",
       "12098             1     2   2.0      3.0            7.0   \n",
       "...             ...   ...   ...      ...            ...   \n",
       "10955             1     1   1.0      1.0           45.0   \n",
       "905               0     1   1.0      1.0           14.0   \n",
       "5192              1     2   2.0      1.0           48.0   \n",
       "12172             1     1   1.0      1.0           91.0   \n",
       "235               1     3   2.0      1.0           12.0   \n",
       "\n",
       "       area_type_Built-up  Area  area_type_Carpet  Area  area_type_Plot  Area  \\\n",
       "3844                          0                       0                     0   \n",
       "4738                          0                       0                     1   \n",
       "9497                          1                       0                     0   \n",
       "1308                          0                       0                     0   \n",
       "12098                         0                       0                     0   \n",
       "...                         ...                     ...                   ...   \n",
       "10955                         1                       0                     0   \n",
       "905                           0                       0                     0   \n",
       "5192                          0                       0                     0   \n",
       "12172                         0                       0                     0   \n",
       "235                           0                       0                     0   \n",
       "\n",
       "       area_type_Super built-up  Area  new_total_sqft  \n",
       "3844                                1          1299.0  \n",
       "4738                                0          1850.0  \n",
       "9497                                0          1900.0  \n",
       "1308                                1          1100.0  \n",
       "12098                               1          1315.0  \n",
       "...                               ...             ...  \n",
       "10955                               0           600.0  \n",
       "905                                 1           525.0  \n",
       "5192                                1          1246.0  \n",
       "12172                               1           720.0  \n",
       "235                                 1          1500.0  \n",
       "\n",
       "[10656 rows x 10 columns]"
      ]
     },
     "execution_count": 62,
     "metadata": {},
     "output_type": "execute_result"
    }
   ],
   "source": [
    "x_train,x_test,y_train,y_test = train_test_split(x,y,test_size=0.2,random_state=1)\n",
    "x_train"
   ]
  },
  {
   "cell_type": "code",
   "execution_count": 63,
   "id": "2650f2dc",
   "metadata": {},
   "outputs": [
    {
     "name": "stdout",
     "output_type": "stream",
     "text": [
      "(10656, 10)\n",
      "(2664, 10)\n",
      "(10656,)\n",
      "(2664,)\n"
     ]
    }
   ],
   "source": [
    "print(x_train.shape)\n",
    "print(x_test.shape)\n",
    "print(y_train.shape)\n",
    "print(y_test.shape)"
   ]
  },
  {
   "cell_type": "code",
   "execution_count": 64,
   "id": "41daf958",
   "metadata": {},
   "outputs": [],
   "source": [
    "model=LinearRegression()"
   ]
  },
  {
   "cell_type": "code",
   "execution_count": 65,
   "id": "57363df5",
   "metadata": {},
   "outputs": [
    {
     "data": {
      "text/html": [
       "<style>#sk-container-id-1 {color: black;background-color: white;}#sk-container-id-1 pre{padding: 0;}#sk-container-id-1 div.sk-toggleable {background-color: white;}#sk-container-id-1 label.sk-toggleable__label {cursor: pointer;display: block;width: 100%;margin-bottom: 0;padding: 0.3em;box-sizing: border-box;text-align: center;}#sk-container-id-1 label.sk-toggleable__label-arrow:before {content: \"▸\";float: left;margin-right: 0.25em;color: #696969;}#sk-container-id-1 label.sk-toggleable__label-arrow:hover:before {color: black;}#sk-container-id-1 div.sk-estimator:hover label.sk-toggleable__label-arrow:before {color: black;}#sk-container-id-1 div.sk-toggleable__content {max-height: 0;max-width: 0;overflow: hidden;text-align: left;background-color: #f0f8ff;}#sk-container-id-1 div.sk-toggleable__content pre {margin: 0.2em;color: black;border-radius: 0.25em;background-color: #f0f8ff;}#sk-container-id-1 input.sk-toggleable__control:checked~div.sk-toggleable__content {max-height: 200px;max-width: 100%;overflow: auto;}#sk-container-id-1 input.sk-toggleable__control:checked~label.sk-toggleable__label-arrow:before {content: \"▾\";}#sk-container-id-1 div.sk-estimator input.sk-toggleable__control:checked~label.sk-toggleable__label {background-color: #d4ebff;}#sk-container-id-1 div.sk-label input.sk-toggleable__control:checked~label.sk-toggleable__label {background-color: #d4ebff;}#sk-container-id-1 input.sk-hidden--visually {border: 0;clip: rect(1px 1px 1px 1px);clip: rect(1px, 1px, 1px, 1px);height: 1px;margin: -1px;overflow: hidden;padding: 0;position: absolute;width: 1px;}#sk-container-id-1 div.sk-estimator {font-family: monospace;background-color: #f0f8ff;border: 1px dotted black;border-radius: 0.25em;box-sizing: border-box;margin-bottom: 0.5em;}#sk-container-id-1 div.sk-estimator:hover {background-color: #d4ebff;}#sk-container-id-1 div.sk-parallel-item::after {content: \"\";width: 100%;border-bottom: 1px solid gray;flex-grow: 1;}#sk-container-id-1 div.sk-label:hover label.sk-toggleable__label {background-color: #d4ebff;}#sk-container-id-1 div.sk-serial::before {content: \"\";position: absolute;border-left: 1px solid gray;box-sizing: border-box;top: 0;bottom: 0;left: 50%;z-index: 0;}#sk-container-id-1 div.sk-serial {display: flex;flex-direction: column;align-items: center;background-color: white;padding-right: 0.2em;padding-left: 0.2em;position: relative;}#sk-container-id-1 div.sk-item {position: relative;z-index: 1;}#sk-container-id-1 div.sk-parallel {display: flex;align-items: stretch;justify-content: center;background-color: white;position: relative;}#sk-container-id-1 div.sk-item::before, #sk-container-id-1 div.sk-parallel-item::before {content: \"\";position: absolute;border-left: 1px solid gray;box-sizing: border-box;top: 0;bottom: 0;left: 50%;z-index: -1;}#sk-container-id-1 div.sk-parallel-item {display: flex;flex-direction: column;z-index: 1;position: relative;background-color: white;}#sk-container-id-1 div.sk-parallel-item:first-child::after {align-self: flex-end;width: 50%;}#sk-container-id-1 div.sk-parallel-item:last-child::after {align-self: flex-start;width: 50%;}#sk-container-id-1 div.sk-parallel-item:only-child::after {width: 0;}#sk-container-id-1 div.sk-dashed-wrapped {border: 1px dashed gray;margin: 0 0.4em 0.5em 0.4em;box-sizing: border-box;padding-bottom: 0.4em;background-color: white;}#sk-container-id-1 div.sk-label label {font-family: monospace;font-weight: bold;display: inline-block;line-height: 1.2em;}#sk-container-id-1 div.sk-label-container {text-align: center;}#sk-container-id-1 div.sk-container {/* jupyter's `normalize.less` sets `[hidden] { display: none; }` but bootstrap.min.css set `[hidden] { display: none !important; }` so we also need the `!important` here to be able to override the default hidden behavior on the sphinx rendered scikit-learn.org. See: https://github.com/scikit-learn/scikit-learn/issues/21755 */display: inline-block !important;position: relative;}#sk-container-id-1 div.sk-text-repr-fallback {display: none;}</style><div id=\"sk-container-id-1\" class=\"sk-top-container\"><div class=\"sk-text-repr-fallback\"><pre>LinearRegression()</pre><b>In a Jupyter environment, please rerun this cell to show the HTML representation or trust the notebook. <br />On GitHub, the HTML representation is unable to render, please try loading this page with nbviewer.org.</b></div><div class=\"sk-container\" hidden><div class=\"sk-item\"><div class=\"sk-estimator sk-toggleable\"><input class=\"sk-toggleable__control sk-hidden--visually\" id=\"sk-estimator-id-1\" type=\"checkbox\" checked><label for=\"sk-estimator-id-1\" class=\"sk-toggleable__label sk-toggleable__label-arrow\">LinearRegression</label><div class=\"sk-toggleable__content\"><pre>LinearRegression()</pre></div></div></div></div></div>"
      ],
      "text/plain": [
       "LinearRegression()"
      ]
     },
     "execution_count": 65,
     "metadata": {},
     "output_type": "execute_result"
    }
   ],
   "source": [
    "model.fit(x_train,y_train)"
   ]
  },
  {
   "cell_type": "code",
   "execution_count": 66,
   "id": "d0956317",
   "metadata": {},
   "outputs": [
    {
     "name": "stdout",
     "output_type": "stream",
     "text": [
      "2664\n"
     ]
    }
   ],
   "source": [
    "y_pred_test = model.predict(x_test)\n",
    "y_pred_test\n",
    "print(len(y_pred_test))"
   ]
  },
  {
   "cell_type": "code",
   "execution_count": 67,
   "id": "ee6ab8e6",
   "metadata": {},
   "outputs": [
    {
     "name": "stdout",
     "output_type": "stream",
     "text": [
      "[ 78.03064189 254.35037349 118.64738937 ...  67.48861209  14.90879201\n",
      "  73.68772394]\n",
      "10656\n"
     ]
    }
   ],
   "source": [
    "y_pred_train = model.predict(x_train)\n",
    "print(y_pred_train)\n",
    "print(len(y_pred_train))"
   ]
  },
  {
   "cell_type": "code",
   "execution_count": 68,
   "id": "0e00b33c",
   "metadata": {},
   "outputs": [],
   "source": [
    "import numpy as np\n",
    "from sklearn.metrics import mean_squared_error, mean_absolute_error, r2_score"
   ]
  },
  {
   "cell_type": "markdown",
   "id": "0d6c5d45",
   "metadata": {},
   "source": [
    "### 3. Normality of Residual"
   ]
  },
  {
   "cell_type": "code",
   "execution_count": 69,
   "id": "92846e4e",
   "metadata": {},
   "outputs": [
    {
     "data": {
      "text/plain": [
       "3844       6.969358\n",
       "4738    -104.350373\n",
       "9497     -28.647389\n",
       "1308     -15.272918\n",
       "12098    -26.705139\n",
       "            ...    \n",
       "10955    112.214457\n",
       "905       17.220406\n",
       "5192      -4.488612\n",
       "12172     18.091208\n",
       "235       -8.687724\n",
       "Name: price, Length: 10656, dtype: float64"
      ]
     },
     "execution_count": 69,
     "metadata": {},
     "output_type": "execute_result"
    }
   ],
   "source": [
    "# Residual on train for Normality\n",
    "residual_train = y_train - y_pred_train # yactual - ypredicated\n",
    "residual_train"
   ]
  },
  {
   "cell_type": "code",
   "execution_count": 70,
   "id": "4b028677",
   "metadata": {},
   "outputs": [
    {
     "data": {
      "text/plain": [
       "5854      -9.597656\n",
       "7124     -22.345252\n",
       "8528      21.704096\n",
       "11109     44.633966\n",
       "8180      -0.119331\n",
       "            ...    \n",
       "9042       4.748279\n",
       "3660     -13.319298\n",
       "7364      -1.490081\n",
       "639      104.781790\n",
       "5815     -23.599317\n",
       "Name: price, Length: 2664, dtype: float64"
      ]
     },
     "execution_count": 70,
     "metadata": {},
     "output_type": "execute_result"
    }
   ],
   "source": [
    "# Residual on test for Normality\n",
    "residual_test = y_test - y_pred_test # yactual - ypredicated\n",
    "residual_test"
   ]
  },
  {
   "cell_type": "code",
   "execution_count": 71,
   "id": "fb75d21b",
   "metadata": {},
   "outputs": [
    {
     "data": {
      "text/plain": [
       "<AxesSubplot: xlabel='price', ylabel='Density'>"
      ]
     },
     "execution_count": 71,
     "metadata": {},
     "output_type": "execute_result"
    },
    {
     "data": {
      "image/png": "[encoded data removed]",
      "text/plain": [
       "<Figure size 432x288 with 1 Axes>"
      ]
     },
     "metadata": {
      "needs_background": "light"
     },
     "output_type": "display_data"
    }
   ],
   "source": [
    "sns.kdeplot(residual_train,fill=True)"
   ]
  },
  {
   "cell_type": "code",
   "execution_count": 72,
   "id": "85526acd",
   "metadata": {},
   "outputs": [
    {
     "data": {
      "text/plain": [
       "<AxesSubplot: xlabel='price', ylabel='Density'>"
      ]
     },
     "execution_count": 72,
     "metadata": {},
     "output_type": "execute_result"
    },
    {
     "data": {
      "image/png": "[encoded data removed]",
      "text/plain": [
       "<Figure size 432x288 with 1 Axes>"
      ]
     },
     "metadata": {
      "needs_background": "light"
     },
     "output_type": "display_data"
    }
   ],
   "source": [
    "sns.kdeplot(residual_test,fill=True)"
   ]
  },
  {
   "cell_type": "markdown",
   "id": "92fd557c",
   "metadata": {},
   "source": [
    "### 4. Homoscedascity"
   ]
  },
  {
   "cell_type": "code",
   "execution_count": 73,
   "id": "7e94e149",
   "metadata": {},
   "outputs": [
    {
     "data": {
      "text/plain": [
       "<AxesSubplot: ylabel='price'>"
      ]
     },
     "execution_count": 73,
     "metadata": {},
     "output_type": "execute_result"
    },
    {
     "data": {
      "image/png": "[encoded data removed]",
      "text/plain": [
       "<Figure size 432x288 with 1 Axes>"
      ]
     },
     "metadata": {
      "needs_background": "light"
     },
     "output_type": "display_data"
    }
   ],
   "source": [
    "sns.scatterplot(x= y_pred_train, y= residual_train)"
   ]
  },
  {
   "cell_type": "code",
   "execution_count": 74,
   "id": "5adcbd25",
   "metadata": {},
   "outputs": [
    {
     "data": {
      "text/plain": [
       "<AxesSubplot: ylabel='price'>"
      ]
     },
     "execution_count": 74,
     "metadata": {},
     "output_type": "execute_result"
    },
    {
     "data": {
      "image/png": "[encoded data removed]",
      "text/plain": [
       "<Figure size 432x288 with 1 Axes>"
      ]
     },
     "metadata": {
      "needs_background": "light"
     },
     "output_type": "display_data"
    }
   ],
   "source": [
    "sns.scatterplot(x= y_pred_test, y= residual_test)"
   ]
  },
  {
   "cell_type": "markdown",
   "id": "7eea5023",
   "metadata": {},
   "source": [
    "### 5. Model Evaluation"
   ]
  },
  {
   "cell_type": "code",
   "execution_count": 75,
   "id": "0f402935",
   "metadata": {},
   "outputs": [
    {
     "name": "stdout",
     "output_type": "stream",
     "text": [
      "MSE : 11805.247135906611\n",
      "RMSE : 108.65195412833867\n",
      "MAE : 42.89499633315009\n",
      "R Squared : 0.4353930767075861\n"
     ]
    }
   ],
   "source": [
    "# Training Data Set\n",
    "y_pred_train = model.predict(x_train)\n",
    "\n",
    "mse = mean_squared_error(y_train, y_pred_train)\n",
    "print(\"MSE :\",mse)\n",
    "\n",
    "rmse = np.sqrt(mse)\n",
    "print(\"RMSE :\",rmse)\n",
    "\n",
    "mae = mean_absolute_error(y_train, y_pred_train)\n",
    "print(\"MAE :\",mae)\n",
    "\n",
    "r2 = r2_score(y_train, y_pred_train)\n",
    "print(\"R Squared :\",r2)"
   ]
  },
  {
   "cell_type": "code",
   "execution_count": 76,
   "id": "f3f9162e",
   "metadata": {},
   "outputs": [
    {
     "name": "stdout",
     "output_type": "stream",
     "text": [
      "MSE : 17899.72309579481\n",
      "RMSE : 133.78984675899292\n",
      "MAE : 44.48130117393939\n",
      "R Squared : 0.34473173925059797\n"
     ]
    }
   ],
   "source": [
    "# Testing Dataset\n",
    "y_pred = model.predict(x_test)\n",
    "\n",
    "mse = mean_squared_error(y_test, y_pred_test)\n",
    "print(\"MSE :\",mse)\n",
    "\n",
    "rmse = np.sqrt(mse)\n",
    "print(\"RMSE :\",rmse)\n",
    "\n",
    "mae = mean_absolute_error(y_test, y_pred_test)\n",
    "print(\"MAE :\",mae)\n",
    "\n",
    "r2 = r2_score(y_test, y_pred_test)\n",
    "print(\"R Squared :\",r2)"
   ]
  },
  {
   "cell_type": "code",
   "execution_count": 77,
   "id": "7c0c401e",
   "metadata": {},
   "outputs": [
    {
     "data": {
      "text/plain": [
       "{'availability_dict': {'19-Dec': 0,\n",
       "  'Ready To Move': 1,\n",
       "  '18-May': 0,\n",
       "  '18-Feb': 0,\n",
       "  '18-Nov': 0,\n",
       "  '20-Dec': 0,\n",
       "  '17-Oct': 0,\n",
       "  '21-Dec': 0,\n",
       "  '19-Sep': 0,\n",
       "  '20-Sep': 0,\n",
       "  '18-Mar': 0,\n",
       "  '20-Feb': 0,\n",
       "  '18-Apr': 0,\n",
       "  '20-Aug': 0,\n",
       "  '18-Oct': 0,\n",
       "  '19-Mar': 0,\n",
       "  '17-Sep': 0,\n",
       "  '18-Dec': 0,\n",
       "  '17-Aug': 0,\n",
       "  '19-Apr': 0,\n",
       "  '18-Jun': 0,\n",
       "  '22-Dec': 0,\n",
       "  '22-Jan': 0,\n",
       "  '18-Aug': 0,\n",
       "  '19-Jan': 0,\n",
       "  '17-Jul': 0,\n",
       "  '18-Jul': 0,\n",
       "  '21-Jun': 0,\n",
       "  '20-May': 0,\n",
       "  '19-Aug': 0,\n",
       "  '18-Sep': 0,\n",
       "  '17-May': 0,\n",
       "  '17-Jun': 0,\n",
       "  '21-May': 0,\n",
       "  '18-Jan': 0,\n",
       "  '20-Mar': 0,\n",
       "  '17-Dec': 0,\n",
       "  '16-Mar': 0,\n",
       "  '19-Jun': 0,\n",
       "  '22-Jun': 0,\n",
       "  '19-Jul': 0,\n",
       "  '21-Feb': 0,\n",
       "  'Immediate Possession': 1,\n",
       "  '19-May': 0,\n",
       "  '17-Nov': 0,\n",
       "  '20-Oct': 0,\n",
       "  '20-Jun': 0,\n",
       "  '19-Feb': 0,\n",
       "  '21-Oct': 0,\n",
       "  '21-Jan': 0,\n",
       "  '17-Mar': 0,\n",
       "  '17-Apr': 0,\n",
       "  '22-May': 0,\n",
       "  '19-Oct': 0,\n",
       "  '21-Jul': 0,\n",
       "  '21-Nov': 0,\n",
       "  '21-Mar': 0,\n",
       "  '16-Dec': 0,\n",
       "  '22-Mar': 0,\n",
       "  '20-Jan': 0,\n",
       "  '21-Sep': 0,\n",
       "  '21-Aug': 0,\n",
       "  '14-Nov': 0,\n",
       "  '19-Nov': 0,\n",
       "  '15-Nov': 0,\n",
       "  '16-Jul': 0,\n",
       "  '15-Jun': 0,\n",
       "  '17-Feb': 0,\n",
       "  '20-Nov': 0,\n",
       "  '20-Jul': 0,\n",
       "  '16-Sep': 0,\n",
       "  '15-Oct': 0,\n",
       "  '15-Dec': 0,\n",
       "  '16-Oct': 0,\n",
       "  '22-Nov': 0,\n",
       "  '15-Aug': 0,\n",
       "  '17-Jan': 0,\n",
       "  '16-Nov': 0,\n",
       "  '20-Apr': 0,\n",
       "  '16-Jan': 0,\n",
       "  '14-Jul': 0},\n",
       " 'dict_size': {'2 BHK': 2,\n",
       "  '3 BHK': 3,\n",
       "  '4 Bedroom': 4,\n",
       "  '4 BHK': 4,\n",
       "  '3 Bedroom': 3,\n",
       "  '1 BHK': 1,\n",
       "  '2 Bedroom': 2,\n",
       "  '5 Bedroom': 5,\n",
       "  '6 Bedroom': 6,\n",
       "  '1 Bedroom': 1,\n",
       "  '8 Bedroom': 8,\n",
       "  '7 Bedroom': 7,\n",
       "  '5 BHK': 5,\n",
       "  '9 Bedroom': 9,\n",
       "  '6 BHK': 6,\n",
       "  '7 BHK': 7,\n",
       "  '1 RK': 1,\n",
       "  '10 Bedroom': 10,\n",
       "  '9 BHK': 9,\n",
       "  '8 BHK': 8,\n",
       "  '11 BHK': 11,\n",
       "  '11 Bedroom': 11,\n",
       "  '10 BHK': 10,\n",
       "  '14 BHK': 14,\n",
       "  '13 BHK': 13,\n",
       "  '12 Bedroom': 12,\n",
       "  '27 BHK': 27,\n",
       "  '43 Bedroom': 43,\n",
       "  '16 BHK': 16,\n",
       "  '19 BHK': 19,\n",
       "  '18 Bedroom': 18},\n",
       " 'dict_site_location': {'Alandi Road': 1,\n",
       "  'Kalyani Nagar': 2,\n",
       "  'Mahatma Gandhi Road': 3,\n",
       "  'Lulla Nagar': 4,\n",
       "  'Laxmi Road': 5,\n",
       "  'Law College Road': 6,\n",
       "  'Ambegaon Budruk': 7,\n",
       "  'Koregaon Park': 8,\n",
       "  'Kondhwa Khurd': 9,\n",
       "  'Kondhwa Budruk': 10,\n",
       "  'Kondhwa': 11,\n",
       "  'Kharadi': 12,\n",
       "  'Khadki': 13,\n",
       "  'Khadaki': 14,\n",
       "  'Katraj': 15,\n",
       "  'Kasba Peth': 16,\n",
       "  'Karve Road': 17,\n",
       "  'Mangalwar peth': 18,\n",
       "  'Manik Bagh': 19,\n",
       "  'Market yard': 20,\n",
       "  'Padmavati': 21,\n",
       "  'Pune Railway Station': 22,\n",
       "  'Prabhat Road': 23,\n",
       "  'Pirangut': 24,\n",
       "  'Paud Road': 25,\n",
       "  'Pashan': 26,\n",
       "  'Parvati Darshan': 27,\n",
       "  'Navi Peth': 28,\n",
       "  'Model colony': 29,\n",
       "  'Narayangaon': 30,\n",
       "  'Narayan Peth': 31,\n",
       "  'Nana Peth': 32,\n",
       "  'Nagar Road': 33,\n",
       "  'Mundhawa': 34,\n",
       "  'Mukund Nagar': 35,\n",
       "  'Karve Nagar': 36,\n",
       "  'Kothrud': 37,\n",
       "  'Jangali Maharaj Road': 38,\n",
       "  'Bhavani Peth': 40,\n",
       "  'Chandan Nagar': 39,\n",
       "  'Camp': 41,\n",
       "  'Bund Garden Road': 42,\n",
       "  'Budhwar Peth': 43,\n",
       "  'Bopodi': 44,\n",
       "  'Bibvewadi': 45,\n",
       "  'Bhandarkar Road': 46,\n",
       "  'Deccan Gymkhana': 47,\n",
       "  'Baner road': 48,\n",
       "  'Baner': 49,\n",
       "  'Hingne Khurd': 50,\n",
       "  'Aundh Road': 51,\n",
       "  'Aundh': 52,\n",
       "  'Anandnagar': 53,\n",
       "  'Dapodi': 54,\n",
       "  'Balaji Nagar': 55,\n",
       "  'Dehu Road': 56,\n",
       "  'Ganeshkhind': 57,\n",
       "  'Dhankawadi': 58,\n",
       "  'Hadapsar Industrial Estate': 59,\n",
       "  'Guruwar peth': 60,\n",
       "  'Gultekdi': 61,\n",
       "  'Gokhale Nagar': 62,\n",
       "  'Ghorpade Peth': 63,\n",
       "  'Hadapsar': 64,\n",
       "  'Ganesh Peth': 65,\n",
       "  'Dhayari Phata': 66,\n",
       "  'Fergusson College Road': 67,\n",
       "  'Fatima Nagar': 68,\n",
       "  'Erandwane': 69,\n",
       "  'Dhole Patil Road': 70,\n",
       "  'Tilak Road': 71,\n",
       "  'Uruli Devachi': 72,\n",
       "  'Vadgaon Budruk': 73,\n",
       "  'Wadgaon Sheri': 74,\n",
       "  'Viman Nagar': 75,\n",
       "  'Wakadewadi': 76,\n",
       "  'Vishrant Wadi': 77,\n",
       "  'Wagholi': 78,\n",
       "  'Yerawada': 79,\n",
       "  'Wanowrie': 80,\n",
       "  'Warje': 81,\n",
       "  'Somwar Peth': 82,\n",
       "  'Swargate': 83,\n",
       "  'Sasson Road': 84,\n",
       "  'Sinhagad Road': 85,\n",
       "  'Shukrawar Peth': 86,\n",
       "  'Shivaji Nagar': 87,\n",
       "  'Shaniwar Peth': 88,\n",
       "  'Senapati Bapat Road': 89,\n",
       "  'Satara Road': 90,\n",
       "  'Salunke Vihar': 91,\n",
       "  'Sahakar Nagar': 92,\n",
       "  'Sadashiv Peth': 93,\n",
       "  'Raviwar Peth': 94,\n",
       "  'Rasta Peth': 95,\n",
       "  'Ghorpadi': 96,\n",
       "  'other': 97},\n",
       " 'column_dict': ['availability',\n",
       "  'size',\n",
       "  'bath',\n",
       "  'balcony',\n",
       "  'site_location',\n",
       "  'area_type_Built-up  Area',\n",
       "  'area_type_Carpet  Area',\n",
       "  'area_type_Plot  Area',\n",
       "  'area_type_Super built-up  Area',\n",
       "  'new_total_sqft']}"
      ]
     },
     "execution_count": 77,
     "metadata": {},
     "output_type": "execute_result"
    }
   ],
   "source": [
    "project_dict = {'availability_dict': dict_availability,'dict_size':dict_size,'dict_site_location':dict_site_location,\n",
    "               'column_dict':x.columns.tolist()}\n",
    "project_dict\n"
   ]
  },
  {
   "cell_type": "markdown",
   "id": "38c74538",
   "metadata": {},
   "source": [
    "### Creating JSON File"
   ]
  },
  {
   "cell_type": "code",
   "execution_count": 78,
   "id": "f8337d1a",
   "metadata": {},
   "outputs": [],
   "source": [
    "import json\n",
    "\n",
    "with open(\"project.json\", \"w\") as f:\n",
    "    json.dump(project_dict, f)"
   ]
  },
  {
   "cell_type": "markdown",
   "id": "389c3b3b",
   "metadata": {},
   "source": [
    "### Creating Pickle File"
   ]
  },
  {
   "cell_type": "code",
   "execution_count": 79,
   "id": "5bf69a3b",
   "metadata": {},
   "outputs": [],
   "source": [
    "import pickle\n",
    " \n",
    "with open(\"Pune_House_Predication.pkl\",\"wb\") as f:\n",
    "    pickle.dump(model,f)\n",
    "    "
   ]
  }
 ],
 "metadata": {
  "kernelspec": {
   "display_name": "Python 3 (ipykernel)",
   "language": "python",
   "name": "python3"
  },
  "language_info": {
   "codemirror_mode": {
    "name": "ipython",
    "version": 3
   },
   "file_extension": ".py",
   "mimetype": "text/x-python",
   "name": "python",
   "nbconvert_exporter": "python",
   "pygments_lexer": "ipython3",
   "version": "3.10.5"
  }
 },
 "nbformat": 4,
 "nbformat_minor": 5
}
