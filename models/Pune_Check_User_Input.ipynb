{
 "cells": [
  {
   "cell_type": "code",
   "execution_count": 1,
   "id": "159f2a6e",
   "metadata": {},
   "outputs": [],
   "source": [
    "import pickle\n",
    "import json"
   ]
  },
  {
   "cell_type": "code",
   "execution_count": 41,
   "id": "e0bb4694",
   "metadata": {},
   "outputs": [
    {
     "data": {
      "text/html": [
       "<style>#sk-container-id-3 {color: black;background-color: white;}#sk-container-id-3 pre{padding: 0;}#sk-container-id-3 div.sk-toggleable {background-color: white;}#sk-container-id-3 label.sk-toggleable__label {cursor: pointer;display: block;width: 100%;margin-bottom: 0;padding: 0.3em;box-sizing: border-box;text-align: center;}#sk-container-id-3 label.sk-toggleable__label-arrow:before {content: \"▸\";float: left;margin-right: 0.25em;color: #696969;}#sk-container-id-3 label.sk-toggleable__label-arrow:hover:before {color: black;}#sk-container-id-3 div.sk-estimator:hover label.sk-toggleable__label-arrow:before {color: black;}#sk-container-id-3 div.sk-toggleable__content {max-height: 0;max-width: 0;overflow: hidden;text-align: left;background-color: #f0f8ff;}#sk-container-id-3 div.sk-toggleable__content pre {margin: 0.2em;color: black;border-radius: 0.25em;background-color: #f0f8ff;}#sk-container-id-3 input.sk-toggleable__control:checked~div.sk-toggleable__content {max-height: 200px;max-width: 100%;overflow: auto;}#sk-container-id-3 input.sk-toggleable__control:checked~label.sk-toggleable__label-arrow:before {content: \"▾\";}#sk-container-id-3 div.sk-estimator input.sk-toggleable__control:checked~label.sk-toggleable__label {background-color: #d4ebff;}#sk-container-id-3 div.sk-label input.sk-toggleable__control:checked~label.sk-toggleable__label {background-color: #d4ebff;}#sk-container-id-3 input.sk-hidden--visually {border: 0;clip: rect(1px 1px 1px 1px);clip: rect(1px, 1px, 1px, 1px);height: 1px;margin: -1px;overflow: hidden;padding: 0;position: absolute;width: 1px;}#sk-container-id-3 div.sk-estimator {font-family: monospace;background-color: #f0f8ff;border: 1px dotted black;border-radius: 0.25em;box-sizing: border-box;margin-bottom: 0.5em;}#sk-container-id-3 div.sk-estimator:hover {background-color: #d4ebff;}#sk-container-id-3 div.sk-parallel-item::after {content: \"\";width: 100%;border-bottom: 1px solid gray;flex-grow: 1;}#sk-container-id-3 div.sk-label:hover label.sk-toggleable__label {background-color: #d4ebff;}#sk-container-id-3 div.sk-serial::before {content: \"\";position: absolute;border-left: 1px solid gray;box-sizing: border-box;top: 0;bottom: 0;left: 50%;z-index: 0;}#sk-container-id-3 div.sk-serial {display: flex;flex-direction: column;align-items: center;background-color: white;padding-right: 0.2em;padding-left: 0.2em;position: relative;}#sk-container-id-3 div.sk-item {position: relative;z-index: 1;}#sk-container-id-3 div.sk-parallel {display: flex;align-items: stretch;justify-content: center;background-color: white;position: relative;}#sk-container-id-3 div.sk-item::before, #sk-container-id-3 div.sk-parallel-item::before {content: \"\";position: absolute;border-left: 1px solid gray;box-sizing: border-box;top: 0;bottom: 0;left: 50%;z-index: -1;}#sk-container-id-3 div.sk-parallel-item {display: flex;flex-direction: column;z-index: 1;position: relative;background-color: white;}#sk-container-id-3 div.sk-parallel-item:first-child::after {align-self: flex-end;width: 50%;}#sk-container-id-3 div.sk-parallel-item:last-child::after {align-self: flex-start;width: 50%;}#sk-container-id-3 div.sk-parallel-item:only-child::after {width: 0;}#sk-container-id-3 div.sk-dashed-wrapped {border: 1px dashed gray;margin: 0 0.4em 0.5em 0.4em;box-sizing: border-box;padding-bottom: 0.4em;background-color: white;}#sk-container-id-3 div.sk-label label {font-family: monospace;font-weight: bold;display: inline-block;line-height: 1.2em;}#sk-container-id-3 div.sk-label-container {text-align: center;}#sk-container-id-3 div.sk-container {/* jupyter's `normalize.less` sets `[hidden] { display: none; }` but bootstrap.min.css set `[hidden] { display: none !important; }` so we also need the `!important` here to be able to override the default hidden behavior on the sphinx rendered scikit-learn.org. See: https://github.com/scikit-learn/scikit-learn/issues/21755 */display: inline-block !important;position: relative;}#sk-container-id-3 div.sk-text-repr-fallback {display: none;}</style><div id=\"sk-container-id-3\" class=\"sk-top-container\"><div class=\"sk-text-repr-fallback\"><pre>LinearRegression()</pre><b>In a Jupyter environment, please rerun this cell to show the HTML representation or trust the notebook. <br />On GitHub, the HTML representation is unable to render, please try loading this page with nbviewer.org.</b></div><div class=\"sk-container\" hidden><div class=\"sk-item\"><div class=\"sk-estimator sk-toggleable\"><input class=\"sk-toggleable__control sk-hidden--visually\" id=\"sk-estimator-id-3\" type=\"checkbox\" checked><label for=\"sk-estimator-id-3\" class=\"sk-toggleable__label sk-toggleable__label-arrow\">LinearRegression</label><div class=\"sk-toggleable__content\"><pre>LinearRegression()</pre></div></div></div></div></div>"
      ],
      "text/plain": [
       "LinearRegression()"
      ]
     },
     "execution_count": 41,
     "metadata": {},
     "output_type": "execute_result"
    }
   ],
   "source": [
    "import pickle\n",
    "\n",
    "with open(\"Pune_House_Predication.pkl\", \"rb\") as f:\n",
    "    model_pkl = pickle.load(f)\n",
    "model_pkl"
   ]
  },
  {
   "cell_type": "code",
   "execution_count": 7,
   "id": "9c0f8e39",
   "metadata": {},
   "outputs": [
    {
     "data": {
      "text/plain": [
       "{'availability_dict': {'19-Dec': 0,\n",
       "  'Ready To Move': 1,\n",
       "  '18-May': 0,\n",
       "  '18-Feb': 0,\n",
       "  '18-Nov': 0,\n",
       "  '20-Dec': 0,\n",
       "  '17-Oct': 0,\n",
       "  '21-Dec': 0,\n",
       "  '19-Sep': 0,\n",
       "  '20-Sep': 0,\n",
       "  '18-Mar': 0,\n",
       "  '20-Feb': 0,\n",
       "  '18-Apr': 0,\n",
       "  '20-Aug': 0,\n",
       "  '18-Oct': 0,\n",
       "  '19-Mar': 0,\n",
       "  '17-Sep': 0,\n",
       "  '18-Dec': 0,\n",
       "  '17-Aug': 0,\n",
       "  '19-Apr': 0,\n",
       "  '18-Jun': 0,\n",
       "  '22-Dec': 0,\n",
       "  '22-Jan': 0,\n",
       "  '18-Aug': 0,\n",
       "  '19-Jan': 0,\n",
       "  '17-Jul': 0,\n",
       "  '18-Jul': 0,\n",
       "  '21-Jun': 0,\n",
       "  '20-May': 0,\n",
       "  '19-Aug': 0,\n",
       "  '18-Sep': 0,\n",
       "  '17-May': 0,\n",
       "  '17-Jun': 0,\n",
       "  '21-May': 0,\n",
       "  '18-Jan': 0,\n",
       "  '20-Mar': 0,\n",
       "  '17-Dec': 0,\n",
       "  '16-Mar': 0,\n",
       "  '19-Jun': 0,\n",
       "  '22-Jun': 0,\n",
       "  '19-Jul': 0,\n",
       "  '21-Feb': 0,\n",
       "  'Immediate Possession': 1,\n",
       "  '19-May': 0,\n",
       "  '17-Nov': 0,\n",
       "  '20-Oct': 0,\n",
       "  '20-Jun': 0,\n",
       "  '19-Feb': 0,\n",
       "  '21-Oct': 0,\n",
       "  '21-Jan': 0,\n",
       "  '17-Mar': 0,\n",
       "  '17-Apr': 0,\n",
       "  '22-May': 0,\n",
       "  '19-Oct': 0,\n",
       "  '21-Jul': 0,\n",
       "  '21-Nov': 0,\n",
       "  '21-Mar': 0,\n",
       "  '16-Dec': 0,\n",
       "  '22-Mar': 0,\n",
       "  '20-Jan': 0,\n",
       "  '21-Sep': 0,\n",
       "  '21-Aug': 0,\n",
       "  '14-Nov': 0,\n",
       "  '19-Nov': 0,\n",
       "  '15-Nov': 0,\n",
       "  '16-Jul': 0,\n",
       "  '15-Jun': 0,\n",
       "  '17-Feb': 0,\n",
       "  '20-Nov': 0,\n",
       "  '20-Jul': 0,\n",
       "  '16-Sep': 0,\n",
       "  '15-Oct': 0,\n",
       "  '15-Dec': 0,\n",
       "  '16-Oct': 0,\n",
       "  '22-Nov': 0,\n",
       "  '15-Aug': 0,\n",
       "  '17-Jan': 0,\n",
       "  '16-Nov': 0,\n",
       "  '20-Apr': 0,\n",
       "  '16-Jan': 0,\n",
       "  '14-Jul': 0},\n",
       " 'dict_size': {'2 BHK': 2,\n",
       "  '3 BHK': 3,\n",
       "  '4 Bedroom': 4,\n",
       "  '4 BHK': 4,\n",
       "  '3 Bedroom': 3,\n",
       "  '1 BHK': 1,\n",
       "  '2 Bedroom': 2,\n",
       "  '5 Bedroom': 5,\n",
       "  '6 Bedroom': 6,\n",
       "  '1 Bedroom': 1,\n",
       "  '8 Bedroom': 8,\n",
       "  '7 Bedroom': 7,\n",
       "  '5 BHK': 5,\n",
       "  '9 Bedroom': 9,\n",
       "  '6 BHK': 6,\n",
       "  '7 BHK': 7,\n",
       "  '1 RK': 1,\n",
       "  '10 Bedroom': 10,\n",
       "  '9 BHK': 9,\n",
       "  '8 BHK': 8,\n",
       "  '11 BHK': 11,\n",
       "  '11 Bedroom': 11,\n",
       "  '10 BHK': 10,\n",
       "  '14 BHK': 14,\n",
       "  '13 BHK': 13,\n",
       "  '12 Bedroom': 12,\n",
       "  '27 BHK': 27,\n",
       "  '43 Bedroom': 43,\n",
       "  '16 BHK': 16,\n",
       "  '19 BHK': 19,\n",
       "  '18 Bedroom': 18},\n",
       " 'dict_site_location': {'Alandi Road': 1,\n",
       "  'Kalyani Nagar': 2,\n",
       "  'Mahatma Gandhi Road': 3,\n",
       "  'Lulla Nagar': 4,\n",
       "  'Laxmi Road': 5,\n",
       "  'Law College Road': 6,\n",
       "  'Ambegaon Budruk': 7,\n",
       "  'Koregaon Park': 8,\n",
       "  'Kondhwa Khurd': 9,\n",
       "  'Kondhwa Budruk': 10,\n",
       "  'Kondhwa': 11,\n",
       "  'Kharadi': 12,\n",
       "  'Khadki': 13,\n",
       "  'Khadaki': 14,\n",
       "  'Katraj': 15,\n",
       "  'Kasba Peth': 16,\n",
       "  'Karve Road': 17,\n",
       "  'Mangalwar peth': 18,\n",
       "  'Manik Bagh': 19,\n",
       "  'Market yard': 20,\n",
       "  'Padmavati': 21,\n",
       "  'Pune Railway Station': 22,\n",
       "  'Prabhat Road': 23,\n",
       "  'Pirangut': 24,\n",
       "  'Paud Road': 25,\n",
       "  'Pashan': 26,\n",
       "  'Parvati Darshan': 27,\n",
       "  'Navi Peth': 28,\n",
       "  'Model colony': 29,\n",
       "  'Narayangaon': 30,\n",
       "  'Narayan Peth': 31,\n",
       "  'Nana Peth': 32,\n",
       "  'Nagar Road': 33,\n",
       "  'Mundhawa': 34,\n",
       "  'Mukund Nagar': 35,\n",
       "  'Karve Nagar': 36,\n",
       "  'Kothrud': 37,\n",
       "  'Jangali Maharaj Road': 38,\n",
       "  'Bhavani Peth': 40,\n",
       "  'Chandan Nagar': 39,\n",
       "  'Camp': 41,\n",
       "  'Bund Garden Road': 42,\n",
       "  'Budhwar Peth': 43,\n",
       "  'Bopodi': 44,\n",
       "  'Bibvewadi': 45,\n",
       "  'Bhandarkar Road': 46,\n",
       "  'Deccan Gymkhana': 47,\n",
       "  'Baner road': 48,\n",
       "  'Baner': 49,\n",
       "  'Hingne Khurd': 50,\n",
       "  'Aundh Road': 51,\n",
       "  'Aundh': 52,\n",
       "  'Anandnagar': 53,\n",
       "  'Dapodi': 54,\n",
       "  'Balaji Nagar': 55,\n",
       "  'Dehu Road': 56,\n",
       "  'Ganeshkhind': 57,\n",
       "  'Dhankawadi': 58,\n",
       "  'Hadapsar Industrial Estate': 59,\n",
       "  'Guruwar peth': 60,\n",
       "  'Gultekdi': 61,\n",
       "  'Gokhale Nagar': 62,\n",
       "  'Ghorpade Peth': 63,\n",
       "  'Hadapsar': 64,\n",
       "  'Ganesh Peth': 65,\n",
       "  'Dhayari Phata': 66,\n",
       "  'Fergusson College Road': 67,\n",
       "  'Fatima Nagar': 68,\n",
       "  'Erandwane': 69,\n",
       "  'Dhole Patil Road': 70,\n",
       "  'Tilak Road': 71,\n",
       "  'Uruli Devachi': 72,\n",
       "  'Vadgaon Budruk': 73,\n",
       "  'Wadgaon Sheri': 74,\n",
       "  'Viman Nagar': 75,\n",
       "  'Wakadewadi': 76,\n",
       "  'Vishrant Wadi': 77,\n",
       "  'Wagholi': 78,\n",
       "  'Yerawada': 79,\n",
       "  'Wanowrie': 80,\n",
       "  'Warje': 81,\n",
       "  'Somwar Peth': 82,\n",
       "  'Swargate': 83,\n",
       "  'Sasson Road': 84,\n",
       "  'Sinhagad Road': 85,\n",
       "  'Shukrawar Peth': 86,\n",
       "  'Shivaji Nagar': 87,\n",
       "  'Shaniwar Peth': 88,\n",
       "  'Senapati Bapat Road': 89,\n",
       "  'Satara Road': 90,\n",
       "  'Salunke Vihar': 91,\n",
       "  'Sahakar Nagar': 92,\n",
       "  'Sadashiv Peth': 93,\n",
       "  'Raviwar Peth': 94,\n",
       "  'Rasta Peth': 95,\n",
       "  'Ghorpadi': 96,\n",
       "  'other': 97},\n",
       " 'column_dict': ['availability',\n",
       "  'size',\n",
       "  'bath',\n",
       "  'balcony',\n",
       "  'site_location',\n",
       "  'area_type_Built-up  Area',\n",
       "  'area_type_Carpet  Area',\n",
       "  'area_type_Plot  Area',\n",
       "  'area_type_Super built-up  Area',\n",
       "  'new_total_sqft']}"
      ]
     },
     "execution_count": 7,
     "metadata": {},
     "output_type": "execute_result"
    }
   ],
   "source": [
    "import json\n",
    "\n",
    "with open(\"project.json\", \"r\") as f:\n",
    "    read_json = json.load(f)\n",
    "read_json"
   ]
  },
  {
   "cell_type": "code",
   "execution_count": 12,
   "id": "29f66f24",
   "metadata": {},
   "outputs": [
    {
     "data": {
      "text/plain": [
       "['availability',\n",
       " 'size',\n",
       " 'bath',\n",
       " 'balcony',\n",
       " 'site_location',\n",
       " 'area_type_Built-up  Area',\n",
       " 'area_type_Carpet  Area',\n",
       " 'area_type_Plot  Area',\n",
       " 'area_type_Super built-up  Area',\n",
       " 'new_total_sqft']"
      ]
     },
     "execution_count": 12,
     "metadata": {},
     "output_type": "execute_result"
    }
   ],
   "source": [
    "read_json[\"column_dict\"]"
   ]
  },
  {
   "cell_type": "code",
   "execution_count": 31,
   "id": "bce5cdb2",
   "metadata": {},
   "outputs": [
    {
     "data": {
      "text/plain": [
       "'area_type_Super built-up  Area'"
      ]
     },
     "execution_count": 31,
     "metadata": {},
     "output_type": "execute_result"
    }
   ],
   "source": [
    "#User Input\n",
    "\n",
    "availability= \"Ready To Move\"\n",
    "size = \"2 BHK\"\n",
    "bath = 3\n",
    "balcony = 2\n",
    "site_location = \"Alandi Road\"\n",
    "area_type = \"area_type_\" + \"Super built-up  Area\"\n",
    "new_total_sqft = 2600\n",
    "area_type"
   ]
  },
  {
   "cell_type": "code",
   "execution_count": 18,
   "id": "5f6420ca",
   "metadata": {},
   "outputs": [
    {
     "data": {
      "text/plain": [
       "array([0, 0, 0, 0, 0, 0, 0, 0, 0, 0])"
      ]
     },
     "execution_count": 18,
     "metadata": {},
     "output_type": "execute_result"
    }
   ],
   "source": [
    "# array creation\n",
    "import numpy as np\n",
    "array = np.zeros(len(read_json[\"column_dict\"]), dtype = int)\n",
    "array"
   ]
  },
  {
   "cell_type": "code",
   "execution_count": 21,
   "id": "b72f9c72",
   "metadata": {},
   "outputs": [
    {
     "data": {
      "text/plain": [
       "1"
      ]
     },
     "execution_count": 21,
     "metadata": {},
     "output_type": "execute_result"
    }
   ],
   "source": [
    "read_json[\"availability_dict\"][availability]"
   ]
  },
  {
   "cell_type": "code",
   "execution_count": 23,
   "id": "9bb51a81",
   "metadata": {},
   "outputs": [
    {
     "data": {
      "text/plain": [
       "2"
      ]
     },
     "execution_count": 23,
     "metadata": {},
     "output_type": "execute_result"
    }
   ],
   "source": [
    "read_json[\"dict_size\"][size]"
   ]
  },
  {
   "cell_type": "code",
   "execution_count": 24,
   "id": "369913c6",
   "metadata": {},
   "outputs": [
    {
     "data": {
      "text/plain": [
       "1"
      ]
     },
     "execution_count": 24,
     "metadata": {},
     "output_type": "execute_result"
    }
   ],
   "source": [
    "read_json[\"dict_site_location\"][site_location]"
   ]
  },
  {
   "cell_type": "code",
   "execution_count": 32,
   "id": "2b3886f1",
   "metadata": {},
   "outputs": [
    {
     "data": {
      "text/plain": [
       "8"
      ]
     },
     "execution_count": 32,
     "metadata": {},
     "output_type": "execute_result"
    }
   ],
   "source": [
    "read_json[\"column_dict\"].index(area_type)"
   ]
  },
  {
   "cell_type": "code",
   "execution_count": 34,
   "id": "96fbb638",
   "metadata": {},
   "outputs": [
    {
     "name": "stdout",
     "output_type": "stream",
     "text": [
      "[   1    2    3    2    1    0    0    0    0 2600]\n"
     ]
    }
   ],
   "source": [
    "array[0] = read_json[\"availability_dict\"][availability]\n",
    "array[1] = read_json[\"dict_size\"][size]\n",
    "array[2] = bath\n",
    "array[3] = balcony\n",
    "array[4] = read_json[\"dict_site_location\"][site_location]\n",
    "array[read_json[\"column_dict\"].index(area_type)]\n",
    "array[9] = new_total_sqft # new column added\n",
    "\n",
    "print(array)"
   ]
  },
  {
   "cell_type": "code",
   "execution_count": 42,
   "id": "97ee26f0",
   "metadata": {},
   "outputs": [
    {
     "name": "stdout",
     "output_type": "stream",
     "text": [
      "Predicted Prmeium of is : 204.65231863605226 Rs Only\n"
     ]
    }
   ],
   "source": [
    "# Here we are taking predicted value from pickle\n",
    "import warnings\n",
    "warnings.filterwarnings(\"ignore\")\n",
    "model_pkl = model_pkl.predict([array])[0]  # 2 D\n",
    "print(\"Predicted Prmeium of is :\",model_pkl, \"Rs Only\")"
   ]
  },
  {
   "cell_type": "code",
   "execution_count": null,
   "id": "15e7bc2d",
   "metadata": {},
   "outputs": [],
   "source": []
  }
 ],
 "metadata": {
  "kernelspec": {
   "display_name": "Python 3 (ipykernel)",
   "language": "python",
   "name": "python3"
  },
  "language_info": {
   "codemirror_mode": {
    "name": "ipython",
    "version": 3
   },
   "file_extension": ".py",
   "mimetype": "text/x-python",
   "name": "python",
   "nbconvert_exporter": "python",
   "pygments_lexer": "ipython3",
   "version": "3.10.5"
  }
 },
 "nbformat": 4,
 "nbformat_minor": 5
}
